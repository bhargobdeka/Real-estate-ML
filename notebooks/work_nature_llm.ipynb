{
 "cells": [
  {
   "cell_type": "code",
   "execution_count": 1,
   "metadata": {},
   "outputs": [
    {
     "name": "stderr",
     "output_type": "stream",
     "text": [
      "/var/folders/8j/ybqbv42143jfglvsf83t5s_c0000gn/T/ipykernel_61878/3011661058.py:1: DeprecationWarning: \n",
      "Pyarrow will become a required dependency of pandas in the next major release of pandas (pandas 3.0),\n",
      "(to allow more performant data types, such as the Arrow string type, and better interoperability with other libraries)\n",
      "but was not found to be installed on your system.\n",
      "If this would cause problems for you,\n",
      "please provide us feedback at https://github.com/pandas-dev/pandas/issues/54466\n",
      "        \n",
      "  import pandas as pd\n"
     ]
    },
    {
     "data": {
      "text/plain": [
       "True"
      ]
     },
     "execution_count": 1,
     "metadata": {},
     "output_type": "execute_result"
    }
   ],
   "source": [
    "import pandas as pd\n",
    "import numpy as np\n",
    "import matplotlib.pyplot as plt\n",
    "import seaborn as sns\n",
    "import os\n",
    "from dotenv import load_dotenv\n",
    "load_dotenv()\n"
   ]
  },
  {
   "cell_type": "code",
   "execution_count": 2,
   "metadata": {},
   "outputs": [],
   "source": [
    "# Get the API key from the .env file\n",
    "API_KEY = os.getenv(\"OPENAI_API_KEY\")\n",
    "os.environ[\"OPENAI_API_KEY\"] = API_KEY"
   ]
  },
  {
   "cell_type": "code",
   "execution_count": 3,
   "metadata": {},
   "outputs": [],
   "source": [
    "import logging\n",
    "import sys\n",
    "from IPython.display import Markdown, display\n",
    "\n",
    "import pandas as pd\n",
    "from llama_index.query_engine import PandasQueryEngine"
   ]
  },
  {
   "cell_type": "code",
   "execution_count": 25,
   "metadata": {},
   "outputs": [
    {
     "data": {
      "text/html": [
       "<div>\n",
       "<style scoped>\n",
       "    .dataframe tbody tr th:only-of-type {\n",
       "        vertical-align: middle;\n",
       "    }\n",
       "\n",
       "    .dataframe tbody tr th {\n",
       "        vertical-align: top;\n",
       "    }\n",
       "\n",
       "    .dataframe thead th {\n",
       "        text-align: right;\n",
       "    }\n",
       "</style>\n",
       "<table border=\"1\" class=\"dataframe\">\n",
       "  <thead>\n",
       "    <tr style=\"text-align: right;\">\n",
       "      <th></th>\n",
       "      <th>start_date</th>\n",
       "      <th>issue_date</th>\n",
       "      <th>estimated_work_cost</th>\n",
       "      <th>issued_permit_cost</th>\n",
       "      <th>building_type_description</th>\n",
       "      <th>building_category_description</th>\n",
       "      <th>work_nature</th>\n",
       "      <th>approval_time</th>\n",
       "    </tr>\n",
       "  </thead>\n",
       "  <tbody>\n",
       "    <tr>\n",
       "      <th>0</th>\n",
       "      <td>1994-05-16</td>\n",
       "      <td>1994-05-18</td>\n",
       "      <td>110000.0</td>\n",
       "      <td>380.0</td>\n",
       "      <td>Résidentiel</td>\n",
       "      <td>Permis ancien système</td>\n",
       "      <td>EXPIRATION DU PERMIS 18 NOV. 1994., CONSTRUCTI...</td>\n",
       "      <td>2 days</td>\n",
       "    </tr>\n",
       "    <tr>\n",
       "      <th>1</th>\n",
       "      <td>1997-08-06</td>\n",
       "      <td>1997-08-07</td>\n",
       "      <td>8500.0</td>\n",
       "      <td>34.0</td>\n",
       "      <td>Résidentiel</td>\n",
       "      <td>Permis ancien système</td>\n",
       "      <td>RENOVATION INTERIEURE D'UNE RESI-, DENCE., CON...</td>\n",
       "      <td>1 days</td>\n",
       "    </tr>\n",
       "    <tr>\n",
       "      <th>2</th>\n",
       "      <td>1997-08-08</td>\n",
       "      <td>1997-09-24</td>\n",
       "      <td>1000.0</td>\n",
       "      <td>40.0</td>\n",
       "      <td>Résidentiel</td>\n",
       "      <td>Permis ancien système</td>\n",
       "      <td>DEMOLITION D'UNE RESIDENCE DE 9.44m, X 14.02 m...</td>\n",
       "      <td>47 days</td>\n",
       "    </tr>\n",
       "    <tr>\n",
       "      <th>3</th>\n",
       "      <td>1997-08-08</td>\n",
       "      <td>1997-09-24</td>\n",
       "      <td>1000.0</td>\n",
       "      <td>40.0</td>\n",
       "      <td>Commercial</td>\n",
       "      <td>Permis ancien système</td>\n",
       "      <td>DEMOLITION D'UNE GRANGE DE 9.44 m X, 11.88 m, ...</td>\n",
       "      <td>47 days</td>\n",
       "    </tr>\n",
       "    <tr>\n",
       "      <th>4</th>\n",
       "      <td>1997-08-08</td>\n",
       "      <td>1997-09-24</td>\n",
       "      <td>150000.0</td>\n",
       "      <td>450.0</td>\n",
       "      <td>Résidentiel</td>\n",
       "      <td>Permis ancien système</td>\n",
       "      <td>CONSTRUCTION D'UNE RESIDENCE UNIFA-, MILIALE D...</td>\n",
       "      <td>47 days</td>\n",
       "    </tr>\n",
       "  </tbody>\n",
       "</table>\n",
       "</div>"
      ],
      "text/plain": [
       "  start_date issue_date  estimated_work_cost  issued_permit_cost  \\\n",
       "0 1994-05-16 1994-05-18             110000.0               380.0   \n",
       "1 1997-08-06 1997-08-07               8500.0                34.0   \n",
       "2 1997-08-08 1997-09-24               1000.0                40.0   \n",
       "3 1997-08-08 1997-09-24               1000.0                40.0   \n",
       "4 1997-08-08 1997-09-24             150000.0               450.0   \n",
       "\n",
       "  building_type_description building_category_description  \\\n",
       "0               Résidentiel         Permis ancien système   \n",
       "1               Résidentiel         Permis ancien système   \n",
       "2               Résidentiel         Permis ancien système   \n",
       "3                Commercial         Permis ancien système   \n",
       "4               Résidentiel         Permis ancien système   \n",
       "\n",
       "                                         work_nature approval_time  \n",
       "0  EXPIRATION DU PERMIS 18 NOV. 1994., CONSTRUCTI...        2 days  \n",
       "1  RENOVATION INTERIEURE D'UNE RESI-, DENCE., CON...        1 days  \n",
       "2  DEMOLITION D'UNE RESIDENCE DE 9.44m, X 14.02 m...       47 days  \n",
       "3  DEMOLITION D'UNE GRANGE DE 9.44 m X, 11.88 m, ...       47 days  \n",
       "4  CONSTRUCTION D'UNE RESIDENCE UNIFA-, MILIALE D...       47 days  "
      ]
     },
     "execution_count": 25,
     "metadata": {},
     "output_type": "execute_result"
    }
   ],
   "source": [
    "df = pd.read_csv('data_llm/work-nature.csv')\n",
    "# add a column for permit approval time\n",
    "# convert issue date to datetime\n",
    "data_df = df\n",
    "data_df['issue_date'] = pd.to_datetime(data_df['issue_date'])\n",
    "data_df['start_date'] = pd.to_datetime(data_df['start_date'])\n",
    "\n",
    "# get approval time in days from start date and issue date\n",
    "data_df['approval_time'] = data_df['issue_date'] - data_df['start_date']\n",
    "\n",
    "data_df.dropna(inplace=True)\n",
    "data_df.isnull().sum()\n",
    "\n",
    "data_df.head()"
   ]
  },
  {
   "cell_type": "code",
   "execution_count": 26,
   "metadata": {},
   "outputs": [],
   "source": [
    "# drop the columns that are not needed\n",
    "data_df = data_df.drop(['issue_date', 'start_date'], axis=1)\n"
   ]
  },
  {
   "cell_type": "code",
   "execution_count": 28,
   "metadata": {},
   "outputs": [],
   "source": [
    "# save the data to a csv file\n",
    "data_df.to_csv('data_llm/work-nature-approval-time.csv', index=False)"
   ]
  },
  {
   "cell_type": "code",
   "execution_count": null,
   "metadata": {},
   "outputs": [],
   "source": [
    "## Trying out PandasQueryEngine\n",
    "df = pd.read_csv('data_llm/work-nature.csv')\n",
    "query_engine = PandasQueryEngine(df=df, verbose=True)\n",
    "response = query_engine.query(\n",
    "    \"Please show the first 10 rows. \\\n",
    "    Convert the response From French to English.?\"\n",
    ")\n",
    "print(response)"
   ]
  },
  {
   "cell_type": "code",
   "execution_count": 29,
   "metadata": {},
   "outputs": [],
   "source": [
    "## Trying out SimpleCSVReader\n",
    "\n",
    "from pathlib import Path\n",
    "from llama_index import download_loader\n",
    "SimpleCSVReader = download_loader(\"SimpleCSVReader\")\n",
    "loader = SimpleCSVReader()\n",
    "\n"
   ]
  },
  {
   "cell_type": "code",
   "execution_count": 30,
   "metadata": {},
   "outputs": [],
   "source": [
    "## with the new dataset with approval times\n",
    "documents = loader.load_data(file=Path('data_llm/work-nature-approval-time.csv'))"
   ]
  },
  {
   "cell_type": "code",
   "execution_count": 31,
   "metadata": {},
   "outputs": [
    {
     "name": "stderr",
     "output_type": "stream",
     "text": [
      "Parsing nodes:   0%|          | 0/1 [00:00<?, ?it/s]"
     ]
    },
    {
     "name": "stderr",
     "output_type": "stream",
     "text": [
      "Parsing nodes: 100%|██████████| 1/1 [00:09<00:00,  9.90s/it]\n",
      "Generating embeddings: 100%|██████████| 900/900 [00:19<00:00, 47.22it/s]\n"
     ]
    }
   ],
   "source": [
    "from llama_index import VectorStoreIndex\n",
    "index = VectorStoreIndex.from_documents(documents, show_progress=True)"
   ]
  },
  {
   "cell_type": "code",
   "execution_count": 35,
   "metadata": {},
   "outputs": [
    {
     "name": "stdout",
     "output_type": "stream",
     "text": [
      "The average approval times in days for the three types of work nature are as follows:\n",
      "\n",
      "1. Construction: The average approval time for construction work is approximately 23 days. This is based on the approval times provided for various construction projects in the given context.\n",
      "\n",
      "2. Renovation: The average approval time for renovation work is approximately 5 days. This is based on the approval times provided for various renovation projects in the given context.\n",
      "\n",
      "3. Demolition: The average approval time for demolition work is approximately 47 days. This is based on the approval times provided for various demolition projects in the given context.\n",
      "\n",
      "Please note that these average approval times are approximate and may vary depending on the specific circumstances of each project.\n"
     ]
    }
   ],
   "source": [
    "query_engine=index.as_query_engine()\n",
    "\n",
    "response = query_engine.query(\"what are the average approval times in days for the three types of work nature? \\\n",
    "Show proof of why you think this is correct.\\\n",
    "Provide the response only in English.\")\n",
    "\n",
    "print(response)"
   ]
  }
 ],
 "metadata": {
  "kernelspec": {
   "display_name": ".venv",
   "language": "python",
   "name": "python3"
  },
  "language_info": {
   "codemirror_mode": {
    "name": "ipython",
    "version": 3
   },
   "file_extension": ".py",
   "mimetype": "text/x-python",
   "name": "python",
   "nbconvert_exporter": "python",
   "pygments_lexer": "ipython3",
   "version": "3.10.11"
  }
 },
 "nbformat": 4,
 "nbformat_minor": 2
}
