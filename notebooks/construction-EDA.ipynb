{
 "cells": [
  {
   "cell_type": "code",
   "execution_count": 9,
   "metadata": {},
   "outputs": [],
   "source": [
    "import pandas as pd\n",
    "import numpy as np\n",
    "import matplotlib.pyplot as plt\n",
    "import seaborn as sns\n",
    "import os\n"
   ]
  },
  {
   "cell_type": "code",
   "execution_count": 10,
   "metadata": {},
   "outputs": [
    {
     "name": "stderr",
     "output_type": "stream",
     "text": [
      "/var/folders/8j/ybqbv42143jfglvsf83t5s_c0000gn/T/ipykernel_27344/2165301696.py:2: DtypeWarning: Columns (14,15) have mixed types. Specify dtype option on import or set low_memory=False.\n",
      "  df = pd.read_csv('../data/permis-construction.csv')\n"
     ]
    }
   ],
   "source": [
    "# Read the data\n",
    "df = pd.read_csv('../data/permis-construction.csv')\n"
   ]
  },
  {
   "cell_type": "code",
   "execution_count": 11,
   "metadata": {},
   "outputs": [
    {
     "name": "stdout",
     "output_type": "stream",
     "text": [
      "['no_demande', 'id_permis', 'date_debut', 'date_emission', 'emplacement', 'arrondissement', 'code_type_base_demande', 'description_type_demande', 'description_type_batiment', 'description_categorie_batiment', 'nature_travaux', 'nb_logements', 'cout_traveaux_estimes', 'cout_permis_emis', 'LETTRE_DEBUT', 'LETTRE_FIN', 'longitude', 'latitude', 'loc_x', 'loc_y']\n"
     ]
    }
   ],
   "source": [
    "# print the column names\n",
    "print(list(df.columns))"
   ]
  },
  {
   "cell_type": "code",
   "execution_count": 12,
   "metadata": {},
   "outputs": [],
   "source": [
    "# rename the columns from french to english\n",
    "new_columns = ['request_number', 'license_id', 'start_date', 'issue_date', 'location', 'district', 'request_base_code', 'request_type_description', 'building_type_description', 'building_category_description', 'work_nature', 'number_of_units', 'estimated_work_cost', 'issued_permit_cost', 'LETTER_START', 'LETTER_END', 'longitude', 'latitude', 'loc_x', 'loc_y']\n",
    "df.columns = new_columns"
   ]
  },
  {
   "cell_type": "code",
   "execution_count": 14,
   "metadata": {},
   "outputs": [],
   "source": [
    "# drop unnecessary columns\n",
    "columns_to_drop = ['request_number','license_id', 'location', 'district', 'request_type_description', 'building_category_description', 'work_nature', 'LETTER_START','LETTER_END']\n",
    "new_df = df\n",
    "new_df.drop(columns_to_drop, axis=1, inplace=True)"
   ]
  },
  {
   "cell_type": "code",
   "execution_count": 15,
   "metadata": {},
   "outputs": [
    {
     "data": {
      "text/html": [
       "<div>\n",
       "<style scoped>\n",
       "    .dataframe tbody tr th:only-of-type {\n",
       "        vertical-align: middle;\n",
       "    }\n",
       "\n",
       "    .dataframe tbody tr th {\n",
       "        vertical-align: top;\n",
       "    }\n",
       "\n",
       "    .dataframe thead th {\n",
       "        text-align: right;\n",
       "    }\n",
       "</style>\n",
       "<table border=\"1\" class=\"dataframe\">\n",
       "  <thead>\n",
       "    <tr style=\"text-align: right;\">\n",
       "      <th></th>\n",
       "      <th>start_date</th>\n",
       "      <th>issue_date</th>\n",
       "      <th>request_base_code</th>\n",
       "      <th>building_type_description</th>\n",
       "      <th>number_of_units</th>\n",
       "      <th>estimated_work_cost</th>\n",
       "      <th>issued_permit_cost</th>\n",
       "      <th>longitude</th>\n",
       "      <th>latitude</th>\n",
       "      <th>loc_x</th>\n",
       "      <th>loc_y</th>\n",
       "    </tr>\n",
       "  </thead>\n",
       "  <tbody>\n",
       "    <tr>\n",
       "      <th>0</th>\n",
       "      <td>1994-05-16</td>\n",
       "      <td>1994-05-18</td>\n",
       "      <td>CO</td>\n",
       "      <td>Résidentiel</td>\n",
       "      <td>1.0</td>\n",
       "      <td>110000.0</td>\n",
       "      <td>380.0</td>\n",
       "      <td>-73.869902</td>\n",
       "      <td>45.505224</td>\n",
       "      <td>275894.73</td>\n",
       "      <td>5040655.81</td>\n",
       "    </tr>\n",
       "    <tr>\n",
       "      <th>1</th>\n",
       "      <td>1997-08-06</td>\n",
       "      <td>1997-08-07</td>\n",
       "      <td>TR</td>\n",
       "      <td>Résidentiel</td>\n",
       "      <td>0.0</td>\n",
       "      <td>8500.0</td>\n",
       "      <td>34.0</td>\n",
       "      <td>-73.873945</td>\n",
       "      <td>45.501934</td>\n",
       "      <td>275577.10</td>\n",
       "      <td>5040291.58</td>\n",
       "    </tr>\n",
       "  </tbody>\n",
       "</table>\n",
       "</div>"
      ],
      "text/plain": [
       "   start_date  issue_date request_base_code building_type_description  \\\n",
       "0  1994-05-16  1994-05-18                CO               Résidentiel   \n",
       "1  1997-08-06  1997-08-07                TR               Résidentiel   \n",
       "\n",
       "   number_of_units  estimated_work_cost  issued_permit_cost  longitude  \\\n",
       "0              1.0             110000.0               380.0 -73.869902   \n",
       "1              0.0               8500.0                34.0 -73.873945   \n",
       "\n",
       "    latitude      loc_x       loc_y  \n",
       "0  45.505224  275894.73  5040655.81  \n",
       "1  45.501934  275577.10  5040291.58  "
      ]
     },
     "execution_count": 15,
     "metadata": {},
     "output_type": "execute_result"
    }
   ],
   "source": [
    "new_df.head(2)\n"
   ]
  },
  {
   "cell_type": "markdown",
   "metadata": {},
   "source": [
    "## Creating Data Column for Permit Approval Time\n"
   ]
  },
  {
   "cell_type": "code",
   "execution_count": 16,
   "metadata": {},
   "outputs": [],
   "source": [
    "# convert issue date to datetime\n",
    "data_df = new_df\n",
    "data_df['issue_date'] = pd.to_datetime(data_df['issue_date'])\n",
    "data_df['start_date'] = pd.to_datetime(data_df['start_date'])\n"
   ]
  },
  {
   "cell_type": "code",
   "execution_count": 17,
   "metadata": {},
   "outputs": [],
   "source": [
    "# get approval time in days from start date and issue date\n",
    "data_df['approval_time'] = data_df['issue_date'] - data_df['start_date']\n"
   ]
  },
  {
   "cell_type": "code",
   "execution_count": 18,
   "metadata": {},
   "outputs": [
    {
     "data": {
      "text/html": [
       "<div>\n",
       "<style scoped>\n",
       "    .dataframe tbody tr th:only-of-type {\n",
       "        vertical-align: middle;\n",
       "    }\n",
       "\n",
       "    .dataframe tbody tr th {\n",
       "        vertical-align: top;\n",
       "    }\n",
       "\n",
       "    .dataframe thead th {\n",
       "        text-align: right;\n",
       "    }\n",
       "</style>\n",
       "<table border=\"1\" class=\"dataframe\">\n",
       "  <thead>\n",
       "    <tr style=\"text-align: right;\">\n",
       "      <th></th>\n",
       "      <th>start_date</th>\n",
       "      <th>issue_date</th>\n",
       "      <th>request_base_code</th>\n",
       "      <th>building_type_description</th>\n",
       "      <th>number_of_units</th>\n",
       "      <th>estimated_work_cost</th>\n",
       "      <th>issued_permit_cost</th>\n",
       "      <th>longitude</th>\n",
       "      <th>latitude</th>\n",
       "      <th>loc_x</th>\n",
       "      <th>loc_y</th>\n",
       "      <th>approval_time</th>\n",
       "    </tr>\n",
       "  </thead>\n",
       "  <tbody>\n",
       "    <tr>\n",
       "      <th>0</th>\n",
       "      <td>1994-05-16</td>\n",
       "      <td>1994-05-18</td>\n",
       "      <td>CO</td>\n",
       "      <td>Résidentiel</td>\n",
       "      <td>1.0</td>\n",
       "      <td>110000.0</td>\n",
       "      <td>380.0</td>\n",
       "      <td>-73.869902</td>\n",
       "      <td>45.505224</td>\n",
       "      <td>275894.73</td>\n",
       "      <td>5040655.81</td>\n",
       "      <td>2 days</td>\n",
       "    </tr>\n",
       "    <tr>\n",
       "      <th>1</th>\n",
       "      <td>1997-08-06</td>\n",
       "      <td>1997-08-07</td>\n",
       "      <td>TR</td>\n",
       "      <td>Résidentiel</td>\n",
       "      <td>0.0</td>\n",
       "      <td>8500.0</td>\n",
       "      <td>34.0</td>\n",
       "      <td>-73.873945</td>\n",
       "      <td>45.501934</td>\n",
       "      <td>275577.10</td>\n",
       "      <td>5040291.58</td>\n",
       "      <td>1 days</td>\n",
       "    </tr>\n",
       "    <tr>\n",
       "      <th>2</th>\n",
       "      <td>1997-08-08</td>\n",
       "      <td>1997-09-24</td>\n",
       "      <td>DE</td>\n",
       "      <td>Résidentiel</td>\n",
       "      <td>-1.0</td>\n",
       "      <td>1000.0</td>\n",
       "      <td>40.0</td>\n",
       "      <td>-73.930681</td>\n",
       "      <td>45.492434</td>\n",
       "      <td>271137.69</td>\n",
       "      <td>5039258.11</td>\n",
       "      <td>47 days</td>\n",
       "    </tr>\n",
       "    <tr>\n",
       "      <th>3</th>\n",
       "      <td>1997-08-08</td>\n",
       "      <td>1997-09-24</td>\n",
       "      <td>DE</td>\n",
       "      <td>Commercial</td>\n",
       "      <td>0.0</td>\n",
       "      <td>1000.0</td>\n",
       "      <td>40.0</td>\n",
       "      <td>-73.930681</td>\n",
       "      <td>45.492434</td>\n",
       "      <td>271137.69</td>\n",
       "      <td>5039258.11</td>\n",
       "      <td>47 days</td>\n",
       "    </tr>\n",
       "    <tr>\n",
       "      <th>4</th>\n",
       "      <td>1997-08-08</td>\n",
       "      <td>1997-09-24</td>\n",
       "      <td>CO</td>\n",
       "      <td>Résidentiel</td>\n",
       "      <td>1.0</td>\n",
       "      <td>150000.0</td>\n",
       "      <td>450.0</td>\n",
       "      <td>-73.930681</td>\n",
       "      <td>45.492434</td>\n",
       "      <td>271137.69</td>\n",
       "      <td>5039258.11</td>\n",
       "      <td>47 days</td>\n",
       "    </tr>\n",
       "  </tbody>\n",
       "</table>\n",
       "</div>"
      ],
      "text/plain": [
       "  start_date issue_date request_base_code building_type_description  \\\n",
       "0 1994-05-16 1994-05-18                CO               Résidentiel   \n",
       "1 1997-08-06 1997-08-07                TR               Résidentiel   \n",
       "2 1997-08-08 1997-09-24                DE               Résidentiel   \n",
       "3 1997-08-08 1997-09-24                DE                Commercial   \n",
       "4 1997-08-08 1997-09-24                CO               Résidentiel   \n",
       "\n",
       "   number_of_units  estimated_work_cost  issued_permit_cost  longitude  \\\n",
       "0              1.0             110000.0               380.0 -73.869902   \n",
       "1              0.0               8500.0                34.0 -73.873945   \n",
       "2             -1.0               1000.0                40.0 -73.930681   \n",
       "3              0.0               1000.0                40.0 -73.930681   \n",
       "4              1.0             150000.0               450.0 -73.930681   \n",
       "\n",
       "    latitude      loc_x       loc_y approval_time  \n",
       "0  45.505224  275894.73  5040655.81        2 days  \n",
       "1  45.501934  275577.10  5040291.58        1 days  \n",
       "2  45.492434  271137.69  5039258.11       47 days  \n",
       "3  45.492434  271137.69  5039258.11       47 days  \n",
       "4  45.492434  271137.69  5039258.11       47 days  "
      ]
     },
     "execution_count": 18,
     "metadata": {},
     "output_type": "execute_result"
    }
   ],
   "source": [
    "data_df.head(5)\n"
   ]
  },
  {
   "cell_type": "code",
   "execution_count": 19,
   "metadata": {},
   "outputs": [],
   "source": [
    "approval_time_df = data_df\n",
    "approval_time_df.drop(['start_date', 'issue_date','loc_x', 'loc_y'], axis=1, inplace=True)"
   ]
  },
  {
   "cell_type": "code",
   "execution_count": 20,
   "metadata": {},
   "outputs": [],
   "source": [
    "approval_time_df.drop(['estimated_work_cost', 'issued_permit_cost'], axis=1, inplace=True)"
   ]
  },
  {
   "cell_type": "code",
   "execution_count": 21,
   "metadata": {},
   "outputs": [
    {
     "data": {
      "text/html": [
       "<div>\n",
       "<style scoped>\n",
       "    .dataframe tbody tr th:only-of-type {\n",
       "        vertical-align: middle;\n",
       "    }\n",
       "\n",
       "    .dataframe tbody tr th {\n",
       "        vertical-align: top;\n",
       "    }\n",
       "\n",
       "    .dataframe thead th {\n",
       "        text-align: right;\n",
       "    }\n",
       "</style>\n",
       "<table border=\"1\" class=\"dataframe\">\n",
       "  <thead>\n",
       "    <tr style=\"text-align: right;\">\n",
       "      <th></th>\n",
       "      <th>request_base_code</th>\n",
       "      <th>building_type_description</th>\n",
       "      <th>number_of_units</th>\n",
       "      <th>longitude</th>\n",
       "      <th>latitude</th>\n",
       "      <th>approval_time</th>\n",
       "    </tr>\n",
       "  </thead>\n",
       "  <tbody>\n",
       "    <tr>\n",
       "      <th>0</th>\n",
       "      <td>CO</td>\n",
       "      <td>Résidentiel</td>\n",
       "      <td>1.0</td>\n",
       "      <td>-73.869902</td>\n",
       "      <td>45.505224</td>\n",
       "      <td>2 days</td>\n",
       "    </tr>\n",
       "    <tr>\n",
       "      <th>1</th>\n",
       "      <td>TR</td>\n",
       "      <td>Résidentiel</td>\n",
       "      <td>0.0</td>\n",
       "      <td>-73.873945</td>\n",
       "      <td>45.501934</td>\n",
       "      <td>1 days</td>\n",
       "    </tr>\n",
       "    <tr>\n",
       "      <th>2</th>\n",
       "      <td>DE</td>\n",
       "      <td>Résidentiel</td>\n",
       "      <td>-1.0</td>\n",
       "      <td>-73.930681</td>\n",
       "      <td>45.492434</td>\n",
       "      <td>47 days</td>\n",
       "    </tr>\n",
       "    <tr>\n",
       "      <th>3</th>\n",
       "      <td>DE</td>\n",
       "      <td>Commercial</td>\n",
       "      <td>0.0</td>\n",
       "      <td>-73.930681</td>\n",
       "      <td>45.492434</td>\n",
       "      <td>47 days</td>\n",
       "    </tr>\n",
       "    <tr>\n",
       "      <th>4</th>\n",
       "      <td>CO</td>\n",
       "      <td>Résidentiel</td>\n",
       "      <td>1.0</td>\n",
       "      <td>-73.930681</td>\n",
       "      <td>45.492434</td>\n",
       "      <td>47 days</td>\n",
       "    </tr>\n",
       "  </tbody>\n",
       "</table>\n",
       "</div>"
      ],
      "text/plain": [
       "  request_base_code building_type_description  number_of_units  longitude  \\\n",
       "0                CO               Résidentiel              1.0 -73.869902   \n",
       "1                TR               Résidentiel              0.0 -73.873945   \n",
       "2                DE               Résidentiel             -1.0 -73.930681   \n",
       "3                DE                Commercial              0.0 -73.930681   \n",
       "4                CO               Résidentiel              1.0 -73.930681   \n",
       "\n",
       "    latitude approval_time  \n",
       "0  45.505224        2 days  \n",
       "1  45.501934        1 days  \n",
       "2  45.492434       47 days  \n",
       "3  45.492434       47 days  \n",
       "4  45.492434       47 days  "
      ]
     },
     "execution_count": 21,
     "metadata": {},
     "output_type": "execute_result"
    }
   ],
   "source": [
    "approval_time_df.head(5)"
   ]
  },
  {
   "cell_type": "code",
   "execution_count": 22,
   "metadata": {},
   "outputs": [
    {
     "data": {
      "text/html": [
       "<div>\n",
       "<style scoped>\n",
       "    .dataframe tbody tr th:only-of-type {\n",
       "        vertical-align: middle;\n",
       "    }\n",
       "\n",
       "    .dataframe tbody tr th {\n",
       "        vertical-align: top;\n",
       "    }\n",
       "\n",
       "    .dataframe thead th {\n",
       "        text-align: right;\n",
       "    }\n",
       "</style>\n",
       "<table border=\"1\" class=\"dataframe\">\n",
       "  <thead>\n",
       "    <tr style=\"text-align: right;\">\n",
       "      <th></th>\n",
       "      <th>request_base_code</th>\n",
       "      <th>building_type_description</th>\n",
       "      <th>number_of_units</th>\n",
       "      <th>longitude</th>\n",
       "      <th>latitude</th>\n",
       "      <th>approval_time</th>\n",
       "    </tr>\n",
       "  </thead>\n",
       "  <tbody>\n",
       "    <tr>\n",
       "      <th>0</th>\n",
       "      <td>CO</td>\n",
       "      <td>Résidentiel</td>\n",
       "      <td>1.0</td>\n",
       "      <td>-73.869902</td>\n",
       "      <td>45.505224</td>\n",
       "      <td>2 days</td>\n",
       "    </tr>\n",
       "    <tr>\n",
       "      <th>1</th>\n",
       "      <td>TR</td>\n",
       "      <td>Résidentiel</td>\n",
       "      <td>0.0</td>\n",
       "      <td>-73.873945</td>\n",
       "      <td>45.501934</td>\n",
       "      <td>1 days</td>\n",
       "    </tr>\n",
       "    <tr>\n",
       "      <th>2</th>\n",
       "      <td>DE</td>\n",
       "      <td>Commercial</td>\n",
       "      <td>0.0</td>\n",
       "      <td>-73.930681</td>\n",
       "      <td>45.492434</td>\n",
       "      <td>47 days</td>\n",
       "    </tr>\n",
       "    <tr>\n",
       "      <th>3</th>\n",
       "      <td>CO</td>\n",
       "      <td>Résidentiel</td>\n",
       "      <td>1.0</td>\n",
       "      <td>-73.930681</td>\n",
       "      <td>45.492434</td>\n",
       "      <td>47 days</td>\n",
       "    </tr>\n",
       "    <tr>\n",
       "      <th>4</th>\n",
       "      <td>CO</td>\n",
       "      <td>Résidentiel</td>\n",
       "      <td>0.0</td>\n",
       "      <td>-73.930681</td>\n",
       "      <td>45.492434</td>\n",
       "      <td>47 days</td>\n",
       "    </tr>\n",
       "  </tbody>\n",
       "</table>\n",
       "</div>"
      ],
      "text/plain": [
       "  request_base_code building_type_description  number_of_units  longitude  \\\n",
       "0                CO               Résidentiel              1.0 -73.869902   \n",
       "1                TR               Résidentiel              0.0 -73.873945   \n",
       "2                DE                Commercial              0.0 -73.930681   \n",
       "3                CO               Résidentiel              1.0 -73.930681   \n",
       "4                CO               Résidentiel              0.0 -73.930681   \n",
       "\n",
       "    latitude approval_time  \n",
       "0  45.505224        2 days  \n",
       "1  45.501934        1 days  \n",
       "2  45.492434       47 days  \n",
       "3  45.492434       47 days  \n",
       "4  45.492434       47 days  "
      ]
     },
     "execution_count": 22,
     "metadata": {},
     "output_type": "execute_result"
    }
   ],
   "source": [
    "# drop rows with negative values in the 'number_of_units' column\n",
    "approval_time_df = approval_time_df[approval_time_df.number_of_units >= 0].reset_index(drop=True)\n",
    "approval_time_df.head(5)\n",
    "\n"
   ]
  },
  {
   "cell_type": "code",
   "execution_count": 23,
   "metadata": {},
   "outputs": [
    {
     "data": {
      "text/plain": [
       "request_base_code            0\n",
       "building_type_description    0\n",
       "number_of_units              0\n",
       "longitude                    0\n",
       "latitude                     0\n",
       "approval_time                0\n",
       "dtype: int64"
      ]
     },
     "execution_count": 23,
     "metadata": {},
     "output_type": "execute_result"
    }
   ],
   "source": [
    "# remove rows with missing values\n",
    "approval_time_df.dropna(inplace=True)\n",
    "approval_time_df.isnull().sum()"
   ]
  },
  {
   "cell_type": "code",
   "execution_count": 24,
   "metadata": {},
   "outputs": [
    {
     "name": "stdout",
     "output_type": "stream",
     "text": [
      "<class 'pandas.core.frame.DataFrame'>\n",
      "Index: 479126 entries, 0 to 495152\n",
      "Data columns (total 6 columns):\n",
      " #   Column                     Non-Null Count   Dtype          \n",
      "---  ------                     --------------   -----          \n",
      " 0   request_base_code          479126 non-null  object         \n",
      " 1   building_type_description  479126 non-null  object         \n",
      " 2   number_of_units            479126 non-null  float64        \n",
      " 3   longitude                  479126 non-null  float64        \n",
      " 4   latitude                   479126 non-null  float64        \n",
      " 5   approval_time              479126 non-null  timedelta64[ns]\n",
      "dtypes: float64(3), object(2), timedelta64[ns](1)\n",
      "memory usage: 25.6+ MB\n"
     ]
    }
   ],
   "source": [
    "approval_time_df.info()"
   ]
  },
  {
   "cell_type": "code",
   "execution_count": 25,
   "metadata": {},
   "outputs": [
    {
     "name": "stdout",
     "output_type": "stream",
     "text": [
      "Duplicated rows: 53360 out of 479126 rows\n"
     ]
    }
   ],
   "source": [
    "# check for duplicated rows\n",
    "print(f'Duplicated rows: {approval_time_df.duplicated().sum()} out of {len(approval_time_df)} rows')\n",
    "# drop duplicated rows\n",
    "approval_time_df.drop_duplicates(inplace=True)"
   ]
  },
  {
   "cell_type": "code",
   "execution_count": 26,
   "metadata": {},
   "outputs": [
    {
     "name": "stdout",
     "output_type": "stream",
     "text": [
      "Duplicated rows: 0 out of 425766 rows\n"
     ]
    }
   ],
   "source": [
    "print(f'Duplicated rows: {approval_time_df.duplicated().sum()} out of {len(approval_time_df)} rows')"
   ]
  },
  {
   "cell_type": "code",
   "execution_count": 27,
   "metadata": {},
   "outputs": [],
   "source": [
    "# remove the days from the 'days_to_approval' column and convert to integer\n",
    "approval_time_df['approval_time'] = approval_time_df['approval_time'].dt.days.astype('int')\n"
   ]
  },
  {
   "cell_type": "code",
   "execution_count": 28,
   "metadata": {},
   "outputs": [
    {
     "data": {
      "text/html": [
       "<div>\n",
       "<style scoped>\n",
       "    .dataframe tbody tr th:only-of-type {\n",
       "        vertical-align: middle;\n",
       "    }\n",
       "\n",
       "    .dataframe tbody tr th {\n",
       "        vertical-align: top;\n",
       "    }\n",
       "\n",
       "    .dataframe thead th {\n",
       "        text-align: right;\n",
       "    }\n",
       "</style>\n",
       "<table border=\"1\" class=\"dataframe\">\n",
       "  <thead>\n",
       "    <tr style=\"text-align: right;\">\n",
       "      <th></th>\n",
       "      <th>request_base_code</th>\n",
       "      <th>building_type_description</th>\n",
       "      <th>number_of_units</th>\n",
       "      <th>longitude</th>\n",
       "      <th>latitude</th>\n",
       "      <th>approval_time</th>\n",
       "    </tr>\n",
       "  </thead>\n",
       "  <tbody>\n",
       "    <tr>\n",
       "      <th>0</th>\n",
       "      <td>CO</td>\n",
       "      <td>Résidentiel</td>\n",
       "      <td>1.0</td>\n",
       "      <td>-73.869902</td>\n",
       "      <td>45.505224</td>\n",
       "      <td>2</td>\n",
       "    </tr>\n",
       "    <tr>\n",
       "      <th>1</th>\n",
       "      <td>TR</td>\n",
       "      <td>Résidentiel</td>\n",
       "      <td>0.0</td>\n",
       "      <td>-73.873945</td>\n",
       "      <td>45.501934</td>\n",
       "      <td>1</td>\n",
       "    </tr>\n",
       "    <tr>\n",
       "      <th>2</th>\n",
       "      <td>DE</td>\n",
       "      <td>Commercial</td>\n",
       "      <td>0.0</td>\n",
       "      <td>-73.930681</td>\n",
       "      <td>45.492434</td>\n",
       "      <td>47</td>\n",
       "    </tr>\n",
       "    <tr>\n",
       "      <th>3</th>\n",
       "      <td>CO</td>\n",
       "      <td>Résidentiel</td>\n",
       "      <td>1.0</td>\n",
       "      <td>-73.930681</td>\n",
       "      <td>45.492434</td>\n",
       "      <td>47</td>\n",
       "    </tr>\n",
       "    <tr>\n",
       "      <th>4</th>\n",
       "      <td>CO</td>\n",
       "      <td>Résidentiel</td>\n",
       "      <td>0.0</td>\n",
       "      <td>-73.930681</td>\n",
       "      <td>45.492434</td>\n",
       "      <td>47</td>\n",
       "    </tr>\n",
       "  </tbody>\n",
       "</table>\n",
       "</div>"
      ],
      "text/plain": [
       "  request_base_code building_type_description  number_of_units  longitude  \\\n",
       "0                CO               Résidentiel              1.0 -73.869902   \n",
       "1                TR               Résidentiel              0.0 -73.873945   \n",
       "2                DE                Commercial              0.0 -73.930681   \n",
       "3                CO               Résidentiel              1.0 -73.930681   \n",
       "4                CO               Résidentiel              0.0 -73.930681   \n",
       "\n",
       "    latitude  approval_time  \n",
       "0  45.505224              2  \n",
       "1  45.501934              1  \n",
       "2  45.492434             47  \n",
       "3  45.492434             47  \n",
       "4  45.492434             47  "
      ]
     },
     "execution_count": 28,
     "metadata": {},
     "output_type": "execute_result"
    }
   ],
   "source": [
    "approval_time_df.head(5)"
   ]
  },
  {
   "cell_type": "markdown",
   "metadata": {},
   "source": [
    "## Convert the data into training and test set and store the test set separately in order to check our model."
   ]
  },
  {
   "cell_type": "code",
   "execution_count": 29,
   "metadata": {},
   "outputs": [
    {
     "data": {
      "text/plain": [
       "85154"
      ]
     },
     "execution_count": 29,
     "metadata": {},
     "output_type": "execute_result"
    }
   ],
   "source": [
    "\n",
    "# absolute value of 80% of the data will be used for training\n",
    "training_length = np.abs(0.8*len(approval_time_df))\n",
    "training_df = approval_time_df.head(int(training_length))\n",
    "len(training_df)\n",
    "# remaining 20% of the data will be used for testing\n",
    "testing_df = approval_time_df.tail(len(approval_time_df) - len(training_df))\n",
    "len(testing_df)"
   ]
  },
  {
   "cell_type": "code",
   "execution_count": 30,
   "metadata": {},
   "outputs": [],
   "source": [
    "# save the testing csv file\n",
    "testing_df.to_csv('../data/testing.csv', index=False)"
   ]
  },
  {
   "cell_type": "code",
   "execution_count": 31,
   "metadata": {},
   "outputs": [
    {
     "name": "stdout",
     "output_type": "stream",
     "text": [
      "[24 24  4 ... 24 13 24]\n"
     ]
    }
   ],
   "source": [
    "# encode building type description\n",
    "from sklearn.preprocessing import OneHotEncoder, LabelEncoder\n",
    "\n",
    "# Create a OneHotEncoder object\n",
    "# onehot_encoder = OneHotEncoder()\n",
    "# # Encode the building types\n",
    "# encoded_building_types = onehot_encoder.fit_transform(training_df['building_type_description'].values.reshape(-1,1)).toarray()\n",
    "# print(encoded_building_types)\n",
    "\n",
    "# Create a LabelEncoder object\n",
    "label_encoder = LabelEncoder()\n",
    "# Fit and transform the building types\n",
    "encoded_building_types = label_encoder.fit_transform(training_df['building_type_description'])\n",
    "print(encoded_building_types)"
   ]
  },
  {
   "cell_type": "code",
   "execution_count": 32,
   "metadata": {},
   "outputs": [
    {
     "data": {
      "text/html": [
       "<div>\n",
       "<style scoped>\n",
       "    .dataframe tbody tr th:only-of-type {\n",
       "        vertical-align: middle;\n",
       "    }\n",
       "\n",
       "    .dataframe tbody tr th {\n",
       "        vertical-align: top;\n",
       "    }\n",
       "\n",
       "    .dataframe thead th {\n",
       "        text-align: right;\n",
       "    }\n",
       "</style>\n",
       "<table border=\"1\" class=\"dataframe\">\n",
       "  <thead>\n",
       "    <tr style=\"text-align: right;\">\n",
       "      <th></th>\n",
       "      <th>request_base_code</th>\n",
       "      <th>building_type_description</th>\n",
       "      <th>number_of_units</th>\n",
       "      <th>longitude</th>\n",
       "      <th>latitude</th>\n",
       "      <th>approval_time</th>\n",
       "      <th>building_type</th>\n",
       "    </tr>\n",
       "  </thead>\n",
       "  <tbody>\n",
       "    <tr>\n",
       "      <th>0</th>\n",
       "      <td>CO</td>\n",
       "      <td>Résidentiel</td>\n",
       "      <td>1.0</td>\n",
       "      <td>-73.869902</td>\n",
       "      <td>45.505224</td>\n",
       "      <td>2.0</td>\n",
       "      <td>24.0</td>\n",
       "    </tr>\n",
       "    <tr>\n",
       "      <th>1</th>\n",
       "      <td>TR</td>\n",
       "      <td>Résidentiel</td>\n",
       "      <td>0.0</td>\n",
       "      <td>-73.873945</td>\n",
       "      <td>45.501934</td>\n",
       "      <td>1.0</td>\n",
       "      <td>24.0</td>\n",
       "    </tr>\n",
       "    <tr>\n",
       "      <th>2</th>\n",
       "      <td>DE</td>\n",
       "      <td>Commercial</td>\n",
       "      <td>0.0</td>\n",
       "      <td>-73.930681</td>\n",
       "      <td>45.492434</td>\n",
       "      <td>47.0</td>\n",
       "      <td>4.0</td>\n",
       "    </tr>\n",
       "    <tr>\n",
       "      <th>3</th>\n",
       "      <td>CO</td>\n",
       "      <td>Résidentiel</td>\n",
       "      <td>1.0</td>\n",
       "      <td>-73.930681</td>\n",
       "      <td>45.492434</td>\n",
       "      <td>47.0</td>\n",
       "      <td>24.0</td>\n",
       "    </tr>\n",
       "    <tr>\n",
       "      <th>4</th>\n",
       "      <td>CO</td>\n",
       "      <td>Résidentiel</td>\n",
       "      <td>0.0</td>\n",
       "      <td>-73.930681</td>\n",
       "      <td>45.492434</td>\n",
       "      <td>47.0</td>\n",
       "      <td>24.0</td>\n",
       "    </tr>\n",
       "  </tbody>\n",
       "</table>\n",
       "</div>"
      ],
      "text/plain": [
       "  request_base_code building_type_description  number_of_units  longitude  \\\n",
       "0                CO               Résidentiel              1.0 -73.869902   \n",
       "1                TR               Résidentiel              0.0 -73.873945   \n",
       "2                DE                Commercial              0.0 -73.930681   \n",
       "3                CO               Résidentiel              1.0 -73.930681   \n",
       "4                CO               Résidentiel              0.0 -73.930681   \n",
       "\n",
       "    latitude  approval_time  building_type  \n",
       "0  45.505224            2.0           24.0  \n",
       "1  45.501934            1.0           24.0  \n",
       "2  45.492434           47.0            4.0  \n",
       "3  45.492434           47.0           24.0  \n",
       "4  45.492434           47.0           24.0  "
      ]
     },
     "execution_count": 32,
     "metadata": {},
     "output_type": "execute_result"
    }
   ],
   "source": [
    "# Create a dataframe from the encoded building types\n",
    "building_types_df = pd.DataFrame(encoded_building_types, columns=['building_type'])\n",
    "# Concatenate the dataframes\n",
    "training_df = pd.concat([training_df, building_types_df], axis=1)\n",
    "training_df.head(5)"
   ]
  },
  {
   "cell_type": "code",
   "execution_count": 33,
   "metadata": {},
   "outputs": [
    {
     "data": {
      "text/html": [
       "<div>\n",
       "<style scoped>\n",
       "    .dataframe tbody tr th:only-of-type {\n",
       "        vertical-align: middle;\n",
       "    }\n",
       "\n",
       "    .dataframe tbody tr th {\n",
       "        vertical-align: top;\n",
       "    }\n",
       "\n",
       "    .dataframe thead th {\n",
       "        text-align: right;\n",
       "    }\n",
       "</style>\n",
       "<table border=\"1\" class=\"dataframe\">\n",
       "  <thead>\n",
       "    <tr style=\"text-align: right;\">\n",
       "      <th></th>\n",
       "      <th>request_base_code</th>\n",
       "      <th>number_of_units</th>\n",
       "      <th>longitude</th>\n",
       "      <th>latitude</th>\n",
       "      <th>approval_time</th>\n",
       "      <th>building_type</th>\n",
       "    </tr>\n",
       "  </thead>\n",
       "  <tbody>\n",
       "    <tr>\n",
       "      <th>0</th>\n",
       "      <td>CO</td>\n",
       "      <td>1.0</td>\n",
       "      <td>-73.869902</td>\n",
       "      <td>45.505224</td>\n",
       "      <td>2.0</td>\n",
       "      <td>24.0</td>\n",
       "    </tr>\n",
       "    <tr>\n",
       "      <th>1</th>\n",
       "      <td>TR</td>\n",
       "      <td>0.0</td>\n",
       "      <td>-73.873945</td>\n",
       "      <td>45.501934</td>\n",
       "      <td>1.0</td>\n",
       "      <td>24.0</td>\n",
       "    </tr>\n",
       "    <tr>\n",
       "      <th>2</th>\n",
       "      <td>DE</td>\n",
       "      <td>0.0</td>\n",
       "      <td>-73.930681</td>\n",
       "      <td>45.492434</td>\n",
       "      <td>47.0</td>\n",
       "      <td>4.0</td>\n",
       "    </tr>\n",
       "    <tr>\n",
       "      <th>3</th>\n",
       "      <td>CO</td>\n",
       "      <td>1.0</td>\n",
       "      <td>-73.930681</td>\n",
       "      <td>45.492434</td>\n",
       "      <td>47.0</td>\n",
       "      <td>24.0</td>\n",
       "    </tr>\n",
       "    <tr>\n",
       "      <th>4</th>\n",
       "      <td>CO</td>\n",
       "      <td>0.0</td>\n",
       "      <td>-73.930681</td>\n",
       "      <td>45.492434</td>\n",
       "      <td>47.0</td>\n",
       "      <td>24.0</td>\n",
       "    </tr>\n",
       "  </tbody>\n",
       "</table>\n",
       "</div>"
      ],
      "text/plain": [
       "  request_base_code  number_of_units  longitude   latitude  approval_time  \\\n",
       "0                CO              1.0 -73.869902  45.505224            2.0   \n",
       "1                TR              0.0 -73.873945  45.501934            1.0   \n",
       "2                DE              0.0 -73.930681  45.492434           47.0   \n",
       "3                CO              1.0 -73.930681  45.492434           47.0   \n",
       "4                CO              0.0 -73.930681  45.492434           47.0   \n",
       "\n",
       "   building_type  \n",
       "0           24.0  \n",
       "1           24.0  \n",
       "2            4.0  \n",
       "3           24.0  \n",
       "4           24.0  "
      ]
     },
     "execution_count": 33,
     "metadata": {},
     "output_type": "execute_result"
    }
   ],
   "source": [
    "# # add the encoded building types to the dataframe\n",
    "# building_types_df = pd.DataFrame(encoded_building_types, columns=['building_type_'+str(int(i)) for i in range(encoded_building_types.shape[1])])\n",
    "# training_df = pd.concat([training_df, building_types_df], axis=1)\n",
    "\n",
    "# drop the building type description column\n",
    "training_df.drop('building_type_description', axis=1, inplace=True)\n",
    "training_df.head(5)"
   ]
  },
  {
   "cell_type": "code",
   "execution_count": 34,
   "metadata": {},
   "outputs": [
    {
     "data": {
      "text/plain": [
       "array(['CO', 'TR', 'DE', 'CA', nan], dtype=object)"
      ]
     },
     "execution_count": 34,
     "metadata": {},
     "output_type": "execute_result"
    }
   ],
   "source": [
    "training_df['request_base_code'].unique()"
   ]
  },
  {
   "cell_type": "code",
   "execution_count": 35,
   "metadata": {},
   "outputs": [
    {
     "name": "stdout",
     "output_type": "stream",
     "text": [
      "[1 3 2 ... 4 4 4]\n"
     ]
    }
   ],
   "source": [
    "#  encode request base code\n",
    "# Create a LabelEncoder object\n",
    "label_encoder = LabelEncoder()\n",
    "# Fit and transform the request base code\n",
    "encoded_request_base_code = label_encoder.fit_transform(training_df['request_base_code'])\n",
    "print(encoded_request_base_code)\n"
   ]
  },
  {
   "cell_type": "code",
   "execution_count": 36,
   "metadata": {},
   "outputs": [
    {
     "data": {
      "text/html": [
       "<div>\n",
       "<style scoped>\n",
       "    .dataframe tbody tr th:only-of-type {\n",
       "        vertical-align: middle;\n",
       "    }\n",
       "\n",
       "    .dataframe tbody tr th {\n",
       "        vertical-align: top;\n",
       "    }\n",
       "\n",
       "    .dataframe thead th {\n",
       "        text-align: right;\n",
       "    }\n",
       "</style>\n",
       "<table border=\"1\" class=\"dataframe\">\n",
       "  <thead>\n",
       "    <tr style=\"text-align: right;\">\n",
       "      <th></th>\n",
       "      <th>number_of_units</th>\n",
       "      <th>longitude</th>\n",
       "      <th>latitude</th>\n",
       "      <th>approval_time</th>\n",
       "      <th>building_type</th>\n",
       "      <th>request_code</th>\n",
       "    </tr>\n",
       "  </thead>\n",
       "  <tbody>\n",
       "    <tr>\n",
       "      <th>0</th>\n",
       "      <td>1.0</td>\n",
       "      <td>-73.869902</td>\n",
       "      <td>45.505224</td>\n",
       "      <td>2.0</td>\n",
       "      <td>24.0</td>\n",
       "      <td>1.0</td>\n",
       "    </tr>\n",
       "    <tr>\n",
       "      <th>1</th>\n",
       "      <td>0.0</td>\n",
       "      <td>-73.873945</td>\n",
       "      <td>45.501934</td>\n",
       "      <td>1.0</td>\n",
       "      <td>24.0</td>\n",
       "      <td>3.0</td>\n",
       "    </tr>\n",
       "    <tr>\n",
       "      <th>2</th>\n",
       "      <td>0.0</td>\n",
       "      <td>-73.930681</td>\n",
       "      <td>45.492434</td>\n",
       "      <td>47.0</td>\n",
       "      <td>4.0</td>\n",
       "      <td>2.0</td>\n",
       "    </tr>\n",
       "    <tr>\n",
       "      <th>3</th>\n",
       "      <td>1.0</td>\n",
       "      <td>-73.930681</td>\n",
       "      <td>45.492434</td>\n",
       "      <td>47.0</td>\n",
       "      <td>24.0</td>\n",
       "      <td>1.0</td>\n",
       "    </tr>\n",
       "    <tr>\n",
       "      <th>4</th>\n",
       "      <td>0.0</td>\n",
       "      <td>-73.930681</td>\n",
       "      <td>45.492434</td>\n",
       "      <td>47.0</td>\n",
       "      <td>24.0</td>\n",
       "      <td>1.0</td>\n",
       "    </tr>\n",
       "  </tbody>\n",
       "</table>\n",
       "</div>"
      ],
      "text/plain": [
       "   number_of_units  longitude   latitude  approval_time  building_type  \\\n",
       "0              1.0 -73.869902  45.505224            2.0           24.0   \n",
       "1              0.0 -73.873945  45.501934            1.0           24.0   \n",
       "2              0.0 -73.930681  45.492434           47.0            4.0   \n",
       "3              1.0 -73.930681  45.492434           47.0           24.0   \n",
       "4              0.0 -73.930681  45.492434           47.0           24.0   \n",
       "\n",
       "   request_code  \n",
       "0           1.0  \n",
       "1           3.0  \n",
       "2           2.0  \n",
       "3           1.0  \n",
       "4           1.0  "
      ]
     },
     "execution_count": 36,
     "metadata": {},
     "output_type": "execute_result"
    }
   ],
   "source": [
    "# Create a dataframe from the encoded request base code\n",
    "request_base_code_df = pd.DataFrame(encoded_request_base_code, columns=['request_code'])\n",
    "# Concatenate the dataframes\n",
    "training_df = pd.concat([training_df, request_base_code_df], axis=1)\n",
    "\n",
    "# drop the request base code column\n",
    "training_df.drop('request_base_code', axis=1, inplace=True)\n",
    "training_df.head(5)\n"
   ]
  },
  {
   "cell_type": "code",
   "execution_count": 28,
   "metadata": {},
   "outputs": [],
   "source": [
    "# # onhot encode the request base code\n",
    "# encoded_request_base_code = onehot_encoder.fit_transform(training_df['request_base_code'].values.reshape(-1,1)).toarray()\n",
    "# # add the encoded request base code to the dataframe\n",
    "# request_base_code_df = pd.DataFrame(encoded_request_base_code, columns=['request_base_code_'+str(int(i)) for i in range(encoded_request_base_code.shape[1])])\n",
    "# training_df = pd.concat([training_df, request_base_code_df], axis=1)\n",
    "# # drop the request base code column\n",
    "# training_df.drop('request_base_code', axis=1, inplace=True)\n",
    "# training_df.head(5)"
   ]
  },
  {
   "cell_type": "code",
   "execution_count": 37,
   "metadata": {},
   "outputs": [
    {
     "data": {
      "text/html": [
       "<div>\n",
       "<style scoped>\n",
       "    .dataframe tbody tr th:only-of-type {\n",
       "        vertical-align: middle;\n",
       "    }\n",
       "\n",
       "    .dataframe tbody tr th {\n",
       "        vertical-align: top;\n",
       "    }\n",
       "\n",
       "    .dataframe thead th {\n",
       "        text-align: right;\n",
       "    }\n",
       "</style>\n",
       "<table border=\"1\" class=\"dataframe\">\n",
       "  <thead>\n",
       "    <tr style=\"text-align: right;\">\n",
       "      <th></th>\n",
       "      <th>number_of_units</th>\n",
       "      <th>longitude</th>\n",
       "      <th>latitude</th>\n",
       "      <th>building_type</th>\n",
       "      <th>request_code</th>\n",
       "      <th>approval_time</th>\n",
       "    </tr>\n",
       "  </thead>\n",
       "  <tbody>\n",
       "    <tr>\n",
       "      <th>0</th>\n",
       "      <td>1.0</td>\n",
       "      <td>-73.869902</td>\n",
       "      <td>45.505224</td>\n",
       "      <td>24.0</td>\n",
       "      <td>1.0</td>\n",
       "      <td>2.0</td>\n",
       "    </tr>\n",
       "    <tr>\n",
       "      <th>1</th>\n",
       "      <td>0.0</td>\n",
       "      <td>-73.873945</td>\n",
       "      <td>45.501934</td>\n",
       "      <td>24.0</td>\n",
       "      <td>3.0</td>\n",
       "      <td>1.0</td>\n",
       "    </tr>\n",
       "    <tr>\n",
       "      <th>2</th>\n",
       "      <td>0.0</td>\n",
       "      <td>-73.930681</td>\n",
       "      <td>45.492434</td>\n",
       "      <td>4.0</td>\n",
       "      <td>2.0</td>\n",
       "      <td>47.0</td>\n",
       "    </tr>\n",
       "    <tr>\n",
       "      <th>3</th>\n",
       "      <td>1.0</td>\n",
       "      <td>-73.930681</td>\n",
       "      <td>45.492434</td>\n",
       "      <td>24.0</td>\n",
       "      <td>1.0</td>\n",
       "      <td>47.0</td>\n",
       "    </tr>\n",
       "    <tr>\n",
       "      <th>4</th>\n",
       "      <td>0.0</td>\n",
       "      <td>-73.930681</td>\n",
       "      <td>45.492434</td>\n",
       "      <td>24.0</td>\n",
       "      <td>1.0</td>\n",
       "      <td>47.0</td>\n",
       "    </tr>\n",
       "  </tbody>\n",
       "</table>\n",
       "</div>"
      ],
      "text/plain": [
       "   number_of_units  longitude   latitude  building_type  request_code  \\\n",
       "0              1.0 -73.869902  45.505224           24.0           1.0   \n",
       "1              0.0 -73.873945  45.501934           24.0           3.0   \n",
       "2              0.0 -73.930681  45.492434            4.0           2.0   \n",
       "3              1.0 -73.930681  45.492434           24.0           1.0   \n",
       "4              0.0 -73.930681  45.492434           24.0           1.0   \n",
       "\n",
       "   approval_time  \n",
       "0            2.0  \n",
       "1            1.0  \n",
       "2           47.0  \n",
       "3           47.0  \n",
       "4           47.0  "
      ]
     },
     "execution_count": 37,
     "metadata": {},
     "output_type": "execute_result"
    }
   ],
   "source": [
    "# put approval_time column at the end of the dataframe\n",
    "cols = list(training_df.columns.values)\n",
    "cols.pop(cols.index('approval_time'))\n",
    "training_df = training_df[cols+['approval_time']]\n",
    "training_df.head(5)"
   ]
  },
  {
   "cell_type": "code",
   "execution_count": 38,
   "metadata": {},
   "outputs": [],
   "source": [
    "# save the dataframe to csv\n",
    "training_df.to_csv('../data/permit-time-training.csv', index=False)"
   ]
  },
  {
   "cell_type": "code",
   "execution_count": 40,
   "metadata": {},
   "outputs": [
    {
     "data": {
      "text/html": [
       "<div>\n",
       "<style scoped>\n",
       "    .dataframe tbody tr th:only-of-type {\n",
       "        vertical-align: middle;\n",
       "    }\n",
       "\n",
       "    .dataframe tbody tr th {\n",
       "        vertical-align: top;\n",
       "    }\n",
       "\n",
       "    .dataframe thead th {\n",
       "        text-align: right;\n",
       "    }\n",
       "</style>\n",
       "<table border=\"1\" class=\"dataframe\">\n",
       "  <thead>\n",
       "    <tr style=\"text-align: right;\">\n",
       "      <th></th>\n",
       "      <th>number_of_units</th>\n",
       "      <th>longitude</th>\n",
       "      <th>latitude</th>\n",
       "      <th>building_type</th>\n",
       "      <th>request_code</th>\n",
       "      <th>approval_time</th>\n",
       "    </tr>\n",
       "  </thead>\n",
       "  <tbody>\n",
       "    <tr>\n",
       "      <th>0</th>\n",
       "      <td>1.0</td>\n",
       "      <td>-73.869902</td>\n",
       "      <td>45.505224</td>\n",
       "      <td>24.0</td>\n",
       "      <td>1.0</td>\n",
       "      <td>2.0</td>\n",
       "    </tr>\n",
       "    <tr>\n",
       "      <th>1</th>\n",
       "      <td>0.0</td>\n",
       "      <td>-73.873945</td>\n",
       "      <td>45.501934</td>\n",
       "      <td>24.0</td>\n",
       "      <td>3.0</td>\n",
       "      <td>1.0</td>\n",
       "    </tr>\n",
       "    <tr>\n",
       "      <th>2</th>\n",
       "      <td>0.0</td>\n",
       "      <td>-73.930681</td>\n",
       "      <td>45.492434</td>\n",
       "      <td>4.0</td>\n",
       "      <td>2.0</td>\n",
       "      <td>47.0</td>\n",
       "    </tr>\n",
       "    <tr>\n",
       "      <th>3</th>\n",
       "      <td>1.0</td>\n",
       "      <td>-73.930681</td>\n",
       "      <td>45.492434</td>\n",
       "      <td>24.0</td>\n",
       "      <td>1.0</td>\n",
       "      <td>47.0</td>\n",
       "    </tr>\n",
       "    <tr>\n",
       "      <th>4</th>\n",
       "      <td>0.0</td>\n",
       "      <td>-73.930681</td>\n",
       "      <td>45.492434</td>\n",
       "      <td>24.0</td>\n",
       "      <td>1.0</td>\n",
       "      <td>47.0</td>\n",
       "    </tr>\n",
       "  </tbody>\n",
       "</table>\n",
       "</div>"
      ],
      "text/plain": [
       "   number_of_units  longitude   latitude  building_type  request_code  \\\n",
       "0              1.0 -73.869902  45.505224           24.0           1.0   \n",
       "1              0.0 -73.873945  45.501934           24.0           3.0   \n",
       "2              0.0 -73.930681  45.492434            4.0           2.0   \n",
       "3              1.0 -73.930681  45.492434           24.0           1.0   \n",
       "4              0.0 -73.930681  45.492434           24.0           1.0   \n",
       "\n",
       "   approval_time  \n",
       "0            2.0  \n",
       "1            1.0  \n",
       "2           47.0  \n",
       "3           47.0  \n",
       "4           47.0  "
      ]
     },
     "execution_count": 40,
     "metadata": {},
     "output_type": "execute_result"
    }
   ],
   "source": [
    "# read the dataframe from csv\n",
    "df = pd.read_csv('../data/permit-time-training.csv')\n",
    "df.head(5)"
   ]
  }
 ],
 "metadata": {
  "kernelspec": {
   "display_name": ".venv",
   "language": "python",
   "name": "python3"
  },
  "language_info": {
   "codemirror_mode": {
    "name": "ipython",
    "version": 3
   },
   "file_extension": ".py",
   "mimetype": "text/x-python",
   "name": "python",
   "nbconvert_exporter": "python",
   "pygments_lexer": "ipython3",
   "version": "3.10.11"
  }
 },
 "nbformat": 4,
 "nbformat_minor": 2
}
