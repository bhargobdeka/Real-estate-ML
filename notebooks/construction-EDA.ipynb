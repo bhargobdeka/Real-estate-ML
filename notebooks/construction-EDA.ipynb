{
 "cells": [
  {
   "cell_type": "code",
   "execution_count": 2,
   "metadata": {},
   "outputs": [
    {
     "name": "stderr",
     "output_type": "stream",
     "text": [
      "/var/folders/8j/ybqbv42143jfglvsf83t5s_c0000gn/T/ipykernel_27766/961582660.py:1: DeprecationWarning: \n",
      "Pyarrow will become a required dependency of pandas in the next major release of pandas (pandas 3.0),\n",
      "(to allow more performant data types, such as the Arrow string type, and better interoperability with other libraries)\n",
      "but was not found to be installed on your system.\n",
      "If this would cause problems for you,\n",
      "please provide us feedback at https://github.com/pandas-dev/pandas/issues/54466\n",
      "        \n",
      "  import pandas as pd\n"
     ]
    }
   ],
   "source": [
    "import pandas as pd\n",
    "import numpy as np\n",
    "import matplotlib.pyplot as plt\n",
    "import seaborn as sns\n",
    "import os\n"
   ]
  },
  {
   "cell_type": "code",
   "execution_count": 5,
   "metadata": {},
   "outputs": [
    {
     "name": "stderr",
     "output_type": "stream",
     "text": [
      "/var/folders/8j/ybqbv42143jfglvsf83t5s_c0000gn/T/ipykernel_27766/3617261328.py:8: DtypeWarning: Columns (14,15) have mixed types. Specify dtype option on import or set low_memory=False.\n",
      "  df = pd.read_csv(file)\n"
     ]
    },
    {
     "name": "stdout",
     "output_type": "stream",
     "text": [
      "   no_demande   id_permis  date_debut date_emission  \\\n",
      "0  1200000876  1200006381  1994-05-16    1994-05-18   \n",
      "1  1200002412  1200007323  1997-08-06    1997-08-07   \n",
      "2  1200002441  1200007352  1997-08-08    1997-09-24   \n",
      "3  1200002442  1200007354  1997-08-08    1997-09-24   \n",
      "4  1200002443  1200007353  1997-08-08    1997-09-24   \n",
      "\n",
      "                    emplacement                   arrondissement  \\\n",
      "0         121  rue Pierre-Panet  L'Île-Bizard - Sainte-Geneviève   \n",
      "1              566  rue Simonet  L'Île-Bizard - Sainte-Geneviève   \n",
      "2   1621  chemin du Bord-du-Lac  L'Île-Bizard - Sainte-Geneviève   \n",
      "3   1621  chemin du Bord-du-Lac  L'Île-Bizard - Sainte-Geneviève   \n",
      "4   1621  chemin du Bord-du-Lac  L'Île-Bizard - Sainte-Geneviève   \n",
      "\n",
      "  code_type_base_demande       description_type_demande  \\\n",
      "0                     CO                   Construction   \n",
      "1                     TR  Transformation - modification   \n",
      "2                     DE                     Démolition   \n",
      "3                     DE                     Démolition   \n",
      "4                     CO                   Construction   \n",
      "\n",
      "  description_type_batiment description_categorie_batiment  \\\n",
      "0               Résidentiel          Permis ancien système   \n",
      "1               Résidentiel          Permis ancien système   \n",
      "2               Résidentiel          Permis ancien système   \n",
      "3                Commercial          Permis ancien système   \n",
      "4               Résidentiel          Permis ancien système   \n",
      "\n",
      "                                      nature_travaux  nb_logements  \\\n",
      "0  EXPIRATION DU PERMIS 18 NOV. 1994., CONSTRUCTI...           1.0   \n",
      "1  RENOVATION INTERIEURE D'UNE RESI-, DENCE., CON...           0.0   \n",
      "2  DEMOLITION D'UNE RESIDENCE DE 9.44m, X 14.02 m...          -1.0   \n",
      "3  DEMOLITION D'UNE GRANGE DE 9.44 m X, 11.88 m, ...           0.0   \n",
      "4  CONSTRUCTION D'UNE RESIDENCE UNIFA-, MILIALE D...           1.0   \n",
      "\n",
      "   cout_traveaux_estimes  cout_permis_emis LETTRE_DEBUT LETTRE_FIN  longitude  \\\n",
      "0               110000.0             380.0          NaN        NaN -73.869902   \n",
      "1                 8500.0              34.0          NaN        NaN -73.873945   \n",
      "2                 1000.0              40.0          NaN        NaN -73.930681   \n",
      "3                 1000.0              40.0          NaN        NaN -73.930681   \n",
      "4               150000.0             450.0          NaN        NaN -73.930681   \n",
      "\n",
      "    latitude      loc_x       loc_y  \n",
      "0  45.505224  275894.73  5040655.81  \n",
      "1  45.501934  275577.10  5040291.58  \n",
      "2  45.492434  271137.69  5039258.11  \n",
      "3  45.492434  271137.69  5039258.11  \n",
      "4  45.492434  271137.69  5039258.11  \n"
     ]
    }
   ],
   "source": [
    "# Read the .zip data file\n",
    "import zipfile\n",
    "with zipfile.ZipFile('../data/permis-construction.csv.zip', 'r') as zip_ref:\n",
    "    csv_file_name = zip_ref.namelist()[0]\n",
    "\n",
    "    # Extract the CSV file from the .zip archive and read it into a DataFrame\n",
    "    with zip_ref.open(csv_file_name) as file:\n",
    "        df = pd.read_csv(file)\n",
    "\n",
    "# Display the first few rows of the DataFrame\n",
    "print(df.head())\n",
    "\n"
   ]
  },
  {
   "cell_type": "code",
   "execution_count": 6,
   "metadata": {},
   "outputs": [
    {
     "name": "stdout",
     "output_type": "stream",
     "text": [
      "['no_demande', 'id_permis', 'date_debut', 'date_emission', 'emplacement', 'arrondissement', 'code_type_base_demande', 'description_type_demande', 'description_type_batiment', 'description_categorie_batiment', 'nature_travaux', 'nb_logements', 'cout_traveaux_estimes', 'cout_permis_emis', 'LETTRE_DEBUT', 'LETTRE_FIN', 'longitude', 'latitude', 'loc_x', 'loc_y']\n"
     ]
    }
   ],
   "source": [
    "# print the column names\n",
    "print(list(df.columns))"
   ]
  },
  {
   "cell_type": "code",
   "execution_count": 7,
   "metadata": {},
   "outputs": [],
   "source": [
    "# rename the columns from french to english\n",
    "new_columns = ['request_number', 'license_id', 'start_date', 'issue_date', 'location', 'district', 'request_base_code', 'request_type_description', 'building_type_description', 'building_category_description', 'work_nature', 'number_of_units', 'estimated_work_cost', 'issued_permit_cost', 'LETTER_START', 'LETTER_END', 'longitude', 'latitude', 'loc_x', 'loc_y']\n",
    "df.columns = new_columns"
   ]
  },
  {
   "cell_type": "code",
   "execution_count": 8,
   "metadata": {},
   "outputs": [
    {
     "name": "stdout",
     "output_type": "stream",
     "text": [
      "0    EXPIRATION DU PERMIS 18 NOV. 1994., CONSTRUCTI...\n",
      "1    RENOVATION INTERIEURE D'UNE RESI-, DENCE., CON...\n",
      "2    DEMOLITION D'UNE RESIDENCE DE 9.44m, X 14.02 m...\n",
      "3    DEMOLITION D'UNE GRANGE DE 9.44 m X, 11.88 m, ...\n",
      "Name: work_nature, dtype: object\n"
     ]
    }
   ],
   "source": [
    "# print the first few rows of the column work_nature\n",
    "print(df['work_nature'].head(4))\n",
    "\n"
   ]
  },
  {
   "cell_type": "code",
   "execution_count": 18,
   "metadata": {},
   "outputs": [],
   "source": [
    "# find the words Construction, Renovation, and Demolition in the work_nature column\n",
    "# Define a function to extract the specific words using regular expressions\n",
    "import re\n",
    "def extract_specific_word(text):\n",
    "    if isinstance(text, str):  # Check if text is a string (not NaN)\n",
    "        match = re.search(r'\\b(CONSTRUCTION|RENOVATION|DEMOLITION)\\b', text.upper())\n",
    "        if match:\n",
    "            return match.group()\n",
    "    return None\n",
    "\n",
    "\n",
    "# Apply the function to the 'work_nature' column and overwrite it\n",
    "df['work_nature'] = df['work_nature'].apply(lambda x: extract_specific_word(x))\n",
    "\n"
   ]
  },
  {
   "cell_type": "code",
   "execution_count": 19,
   "metadata": {},
   "outputs": [
    {
     "name": "stdout",
     "output_type": "stream",
     "text": [
      "   request_number  license_id  start_date  issue_date  \\\n",
      "0      1200000876  1200006381  1994-05-16  1994-05-18   \n",
      "1      1200002412  1200007323  1997-08-06  1997-08-07   \n",
      "2      1200002441  1200007352  1997-08-08  1997-09-24   \n",
      "3      1200002442  1200007354  1997-08-08  1997-09-24   \n",
      "\n",
      "                       location                         district  \\\n",
      "0         121  rue Pierre-Panet  L'Île-Bizard - Sainte-Geneviève   \n",
      "1              566  rue Simonet  L'Île-Bizard - Sainte-Geneviève   \n",
      "2   1621  chemin du Bord-du-Lac  L'Île-Bizard - Sainte-Geneviève   \n",
      "3   1621  chemin du Bord-du-Lac  L'Île-Bizard - Sainte-Geneviève   \n",
      "\n",
      "  request_base_code       request_type_description building_type_description  \\\n",
      "0                CO                   Construction               Résidentiel   \n",
      "1                TR  Transformation - modification               Résidentiel   \n",
      "2                DE                     Démolition               Résidentiel   \n",
      "3                DE                     Démolition                Commercial   \n",
      "\n",
      "  building_category_description   work_nature  number_of_units  \\\n",
      "0         Permis ancien système  CONSTRUCTION              1.0   \n",
      "1         Permis ancien système    RENOVATION              0.0   \n",
      "2         Permis ancien système    DEMOLITION             -1.0   \n",
      "3         Permis ancien système    DEMOLITION              0.0   \n",
      "\n",
      "   estimated_work_cost  issued_permit_cost LETTER_START LETTER_END  longitude  \\\n",
      "0             110000.0               380.0          NaN        NaN -73.869902   \n",
      "1               8500.0                34.0          NaN        NaN -73.873945   \n",
      "2               1000.0                40.0          NaN        NaN -73.930681   \n",
      "3               1000.0                40.0          NaN        NaN -73.930681   \n",
      "\n",
      "    latitude      loc_x       loc_y  \n",
      "0  45.505224  275894.73  5040655.81  \n",
      "1  45.501934  275577.10  5040291.58  \n",
      "2  45.492434  271137.69  5039258.11  \n",
      "3  45.492434  271137.69  5039258.11  \n"
     ]
    }
   ],
   "source": [
    "# print unique values in the request_type_description column\n",
    "print(df.head(4))"
   ]
  },
  {
   "cell_type": "code",
   "execution_count": 20,
   "metadata": {},
   "outputs": [],
   "source": [
    "# drop unnecessary columns\n",
    "columns_to_drop = ['request_number','license_id', 'location', 'district', 'request_type_description', 'building_category_description', 'LETTER_START','LETTER_END']\n",
    "new_df = df\n",
    "new_df.drop(columns_to_drop, axis=1, inplace=True)"
   ]
  },
  {
   "cell_type": "code",
   "execution_count": 21,
   "metadata": {},
   "outputs": [
    {
     "data": {
      "text/html": [
       "<div>\n",
       "<style scoped>\n",
       "    .dataframe tbody tr th:only-of-type {\n",
       "        vertical-align: middle;\n",
       "    }\n",
       "\n",
       "    .dataframe tbody tr th {\n",
       "        vertical-align: top;\n",
       "    }\n",
       "\n",
       "    .dataframe thead th {\n",
       "        text-align: right;\n",
       "    }\n",
       "</style>\n",
       "<table border=\"1\" class=\"dataframe\">\n",
       "  <thead>\n",
       "    <tr style=\"text-align: right;\">\n",
       "      <th></th>\n",
       "      <th>start_date</th>\n",
       "      <th>issue_date</th>\n",
       "      <th>request_base_code</th>\n",
       "      <th>building_type_description</th>\n",
       "      <th>work_nature</th>\n",
       "      <th>number_of_units</th>\n",
       "      <th>estimated_work_cost</th>\n",
       "      <th>issued_permit_cost</th>\n",
       "      <th>longitude</th>\n",
       "      <th>latitude</th>\n",
       "      <th>loc_x</th>\n",
       "      <th>loc_y</th>\n",
       "    </tr>\n",
       "  </thead>\n",
       "  <tbody>\n",
       "    <tr>\n",
       "      <th>0</th>\n",
       "      <td>1994-05-16</td>\n",
       "      <td>1994-05-18</td>\n",
       "      <td>CO</td>\n",
       "      <td>Résidentiel</td>\n",
       "      <td>CONSTRUCTION</td>\n",
       "      <td>1.0</td>\n",
       "      <td>110000.0</td>\n",
       "      <td>380.0</td>\n",
       "      <td>-73.869902</td>\n",
       "      <td>45.505224</td>\n",
       "      <td>275894.73</td>\n",
       "      <td>5040655.81</td>\n",
       "    </tr>\n",
       "    <tr>\n",
       "      <th>1</th>\n",
       "      <td>1997-08-06</td>\n",
       "      <td>1997-08-07</td>\n",
       "      <td>TR</td>\n",
       "      <td>Résidentiel</td>\n",
       "      <td>RENOVATION</td>\n",
       "      <td>0.0</td>\n",
       "      <td>8500.0</td>\n",
       "      <td>34.0</td>\n",
       "      <td>-73.873945</td>\n",
       "      <td>45.501934</td>\n",
       "      <td>275577.10</td>\n",
       "      <td>5040291.58</td>\n",
       "    </tr>\n",
       "  </tbody>\n",
       "</table>\n",
       "</div>"
      ],
      "text/plain": [
       "   start_date  issue_date request_base_code building_type_description  \\\n",
       "0  1994-05-16  1994-05-18                CO               Résidentiel   \n",
       "1  1997-08-06  1997-08-07                TR               Résidentiel   \n",
       "\n",
       "    work_nature  number_of_units  estimated_work_cost  issued_permit_cost  \\\n",
       "0  CONSTRUCTION              1.0             110000.0               380.0   \n",
       "1    RENOVATION              0.0               8500.0                34.0   \n",
       "\n",
       "   longitude   latitude      loc_x       loc_y  \n",
       "0 -73.869902  45.505224  275894.73  5040655.81  \n",
       "1 -73.873945  45.501934  275577.10  5040291.58  "
      ]
     },
     "execution_count": 21,
     "metadata": {},
     "output_type": "execute_result"
    }
   ],
   "source": [
    "new_df.head(2)\n"
   ]
  },
  {
   "cell_type": "markdown",
   "metadata": {},
   "source": [
    "### Creating Data Column for Permit Approval Time\n"
   ]
  },
  {
   "cell_type": "code",
   "execution_count": 36,
   "metadata": {},
   "outputs": [],
   "source": [
    "# convert issue date to datetime\n",
    "data_df = new_df\n",
    "data_df['issue_date'] = pd.to_datetime(data_df['issue_date'])\n",
    "data_df['start_date'] = pd.to_datetime(data_df['start_date'])\n"
   ]
  },
  {
   "cell_type": "code",
   "execution_count": 37,
   "metadata": {},
   "outputs": [],
   "source": [
    "# get approval time in days from start date and issue date\n",
    "data_df['approval_time'] = data_df['issue_date'] - data_df['start_date']\n"
   ]
  },
  {
   "cell_type": "code",
   "execution_count": 38,
   "metadata": {},
   "outputs": [
    {
     "data": {
      "image/png": "[encoded data removed]",
      "text/plain": [
       "<Figure size 1000x600 with 1 Axes>"
      ]
     },
     "metadata": {},
     "output_type": "display_data"
    }
   ],
   "source": [
    "# remove outliers in the number of units column\n",
    "data_df = data_df[(data_df['number_of_units'] >= -10) & (data_df['number_of_units'] <= 10)].reset_index(drop=True)\n",
    "\n",
    "# distribution of number of units\n",
    "plt.figure(figsize=(10, 6))\n",
    "sns.histplot(data_df['number_of_units'], kde=True)\n",
    "plt.title('Distribution of Number of Units')\n",
    "plt.xlabel('Number of Units')\n",
    "plt.ylabel('Frequency')\n",
    "plt.show()\n"
   ]
  },
  {
   "cell_type": "code",
   "execution_count": 39,
   "metadata": {},
   "outputs": [],
   "source": [
    "approval_time_df = data_df\n",
    "approval_time_df.drop(['start_date', 'issue_date','loc_x', 'loc_y'], axis=1, inplace=True)"
   ]
  },
  {
   "cell_type": "code",
   "execution_count": 40,
   "metadata": {},
   "outputs": [],
   "source": [
    "approval_time_df.drop(['estimated_work_cost', 'issued_permit_cost'], axis=1, inplace=True)"
   ]
  },
  {
   "cell_type": "code",
   "execution_count": 41,
   "metadata": {},
   "outputs": [
    {
     "data": {
      "text/html": [
       "<div>\n",
       "<style scoped>\n",
       "    .dataframe tbody tr th:only-of-type {\n",
       "        vertical-align: middle;\n",
       "    }\n",
       "\n",
       "    .dataframe tbody tr th {\n",
       "        vertical-align: top;\n",
       "    }\n",
       "\n",
       "    .dataframe thead th {\n",
       "        text-align: right;\n",
       "    }\n",
       "</style>\n",
       "<table border=\"1\" class=\"dataframe\">\n",
       "  <thead>\n",
       "    <tr style=\"text-align: right;\">\n",
       "      <th></th>\n",
       "      <th>request_base_code</th>\n",
       "      <th>building_type_description</th>\n",
       "      <th>work_nature</th>\n",
       "      <th>number_of_units</th>\n",
       "      <th>longitude</th>\n",
       "      <th>latitude</th>\n",
       "      <th>approval_time</th>\n",
       "    </tr>\n",
       "  </thead>\n",
       "  <tbody>\n",
       "    <tr>\n",
       "      <th>0</th>\n",
       "      <td>CO</td>\n",
       "      <td>Résidentiel</td>\n",
       "      <td>CONSTRUCTION</td>\n",
       "      <td>1.0</td>\n",
       "      <td>-73.869902</td>\n",
       "      <td>45.505224</td>\n",
       "      <td>2 days</td>\n",
       "    </tr>\n",
       "    <tr>\n",
       "      <th>1</th>\n",
       "      <td>TR</td>\n",
       "      <td>Résidentiel</td>\n",
       "      <td>RENOVATION</td>\n",
       "      <td>0.0</td>\n",
       "      <td>-73.873945</td>\n",
       "      <td>45.501934</td>\n",
       "      <td>1 days</td>\n",
       "    </tr>\n",
       "    <tr>\n",
       "      <th>2</th>\n",
       "      <td>DE</td>\n",
       "      <td>Résidentiel</td>\n",
       "      <td>DEMOLITION</td>\n",
       "      <td>-1.0</td>\n",
       "      <td>-73.930681</td>\n",
       "      <td>45.492434</td>\n",
       "      <td>47 days</td>\n",
       "    </tr>\n",
       "    <tr>\n",
       "      <th>3</th>\n",
       "      <td>DE</td>\n",
       "      <td>Commercial</td>\n",
       "      <td>DEMOLITION</td>\n",
       "      <td>0.0</td>\n",
       "      <td>-73.930681</td>\n",
       "      <td>45.492434</td>\n",
       "      <td>47 days</td>\n",
       "    </tr>\n",
       "    <tr>\n",
       "      <th>4</th>\n",
       "      <td>CO</td>\n",
       "      <td>Résidentiel</td>\n",
       "      <td>CONSTRUCTION</td>\n",
       "      <td>1.0</td>\n",
       "      <td>-73.930681</td>\n",
       "      <td>45.492434</td>\n",
       "      <td>47 days</td>\n",
       "    </tr>\n",
       "  </tbody>\n",
       "</table>\n",
       "</div>"
      ],
      "text/plain": [
       "  request_base_code building_type_description   work_nature  number_of_units  \\\n",
       "0                CO               Résidentiel  CONSTRUCTION              1.0   \n",
       "1                TR               Résidentiel    RENOVATION              0.0   \n",
       "2                DE               Résidentiel    DEMOLITION             -1.0   \n",
       "3                DE                Commercial    DEMOLITION              0.0   \n",
       "4                CO               Résidentiel  CONSTRUCTION              1.0   \n",
       "\n",
       "   longitude   latitude approval_time  \n",
       "0 -73.869902  45.505224        2 days  \n",
       "1 -73.873945  45.501934        1 days  \n",
       "2 -73.930681  45.492434       47 days  \n",
       "3 -73.930681  45.492434       47 days  \n",
       "4 -73.930681  45.492434       47 days  "
      ]
     },
     "execution_count": 41,
     "metadata": {},
     "output_type": "execute_result"
    }
   ],
   "source": [
    "approval_time_df.head(5)"
   ]
  },
  {
   "cell_type": "code",
   "execution_count": 42,
   "metadata": {},
   "outputs": [
    {
     "data": {
      "text/plain": [
       "request_base_code            0\n",
       "building_type_description    0\n",
       "work_nature                  0\n",
       "number_of_units              0\n",
       "longitude                    0\n",
       "latitude                     0\n",
       "approval_time                0\n",
       "dtype: int64"
      ]
     },
     "execution_count": 42,
     "metadata": {},
     "output_type": "execute_result"
    }
   ],
   "source": [
    "# remove rows with missing values\n",
    "approval_time_df.dropna(inplace=True)\n",
    "approval_time_df.isnull().sum()"
   ]
  },
  {
   "cell_type": "code",
   "execution_count": 43,
   "metadata": {},
   "outputs": [
    {
     "name": "stdout",
     "output_type": "stream",
     "text": [
      "<class 'pandas.core.frame.DataFrame'>\n",
      "Index: 26962 entries, 0 to 501215\n",
      "Data columns (total 7 columns):\n",
      " #   Column                     Non-Null Count  Dtype          \n",
      "---  ------                     --------------  -----          \n",
      " 0   request_base_code          26962 non-null  object         \n",
      " 1   building_type_description  26962 non-null  object         \n",
      " 2   work_nature                26962 non-null  object         \n",
      " 3   number_of_units            26962 non-null  float64        \n",
      " 4   longitude                  26962 non-null  float64        \n",
      " 5   latitude                   26962 non-null  float64        \n",
      " 6   approval_time              26962 non-null  timedelta64[ns]\n",
      "dtypes: float64(3), object(3), timedelta64[ns](1)\n",
      "memory usage: 1.6+ MB\n"
     ]
    }
   ],
   "source": [
    "approval_time_df.info()"
   ]
  },
  {
   "cell_type": "code",
   "execution_count": 45,
   "metadata": {},
   "outputs": [
    {
     "name": "stdout",
     "output_type": "stream",
     "text": [
      "Duplicated rows: 0 out of 25429 rows\n"
     ]
    }
   ],
   "source": [
    "# check for duplicated rows\n",
    "print(f'Duplicated rows: {approval_time_df.duplicated().sum()} out of {len(approval_time_df)} rows')\n",
    "# drop duplicated rows\n",
    "approval_time_df.drop_duplicates(inplace=True)"
   ]
  },
  {
   "cell_type": "code",
   "execution_count": 46,
   "metadata": {},
   "outputs": [
    {
     "name": "stdout",
     "output_type": "stream",
     "text": [
      "Duplicated rows: 0 out of 25429 rows\n"
     ]
    }
   ],
   "source": [
    "print(f'Duplicated rows: {approval_time_df.duplicated().sum()} out of {len(approval_time_df)} rows')"
   ]
  },
  {
   "cell_type": "code",
   "execution_count": 47,
   "metadata": {},
   "outputs": [],
   "source": [
    "# remove the days from the 'days_to_approval' column and convert to integer\n",
    "approval_time_df['approval_time'] = approval_time_df['approval_time'].dt.days.astype('int')\n"
   ]
  },
  {
   "cell_type": "code",
   "execution_count": 49,
   "metadata": {},
   "outputs": [
    {
     "data": {
      "text/html": [
       "<div>\n",
       "<style scoped>\n",
       "    .dataframe tbody tr th:only-of-type {\n",
       "        vertical-align: middle;\n",
       "    }\n",
       "\n",
       "    .dataframe tbody tr th {\n",
       "        vertical-align: top;\n",
       "    }\n",
       "\n",
       "    .dataframe thead th {\n",
       "        text-align: right;\n",
       "    }\n",
       "</style>\n",
       "<table border=\"1\" class=\"dataframe\">\n",
       "  <thead>\n",
       "    <tr style=\"text-align: right;\">\n",
       "      <th></th>\n",
       "      <th>building_type_description</th>\n",
       "      <th>work_nature</th>\n",
       "      <th>number_of_units</th>\n",
       "      <th>longitude</th>\n",
       "      <th>latitude</th>\n",
       "      <th>approval_time</th>\n",
       "    </tr>\n",
       "  </thead>\n",
       "  <tbody>\n",
       "    <tr>\n",
       "      <th>0</th>\n",
       "      <td>Résidentiel</td>\n",
       "      <td>CONSTRUCTION</td>\n",
       "      <td>1.0</td>\n",
       "      <td>-73.869902</td>\n",
       "      <td>45.505224</td>\n",
       "      <td>2</td>\n",
       "    </tr>\n",
       "    <tr>\n",
       "      <th>1</th>\n",
       "      <td>Résidentiel</td>\n",
       "      <td>RENOVATION</td>\n",
       "      <td>0.0</td>\n",
       "      <td>-73.873945</td>\n",
       "      <td>45.501934</td>\n",
       "      <td>1</td>\n",
       "    </tr>\n",
       "    <tr>\n",
       "      <th>2</th>\n",
       "      <td>Résidentiel</td>\n",
       "      <td>DEMOLITION</td>\n",
       "      <td>-1.0</td>\n",
       "      <td>-73.930681</td>\n",
       "      <td>45.492434</td>\n",
       "      <td>47</td>\n",
       "    </tr>\n",
       "    <tr>\n",
       "      <th>3</th>\n",
       "      <td>Commercial</td>\n",
       "      <td>DEMOLITION</td>\n",
       "      <td>0.0</td>\n",
       "      <td>-73.930681</td>\n",
       "      <td>45.492434</td>\n",
       "      <td>47</td>\n",
       "    </tr>\n",
       "    <tr>\n",
       "      <th>4</th>\n",
       "      <td>Résidentiel</td>\n",
       "      <td>CONSTRUCTION</td>\n",
       "      <td>1.0</td>\n",
       "      <td>-73.930681</td>\n",
       "      <td>45.492434</td>\n",
       "      <td>47</td>\n",
       "    </tr>\n",
       "  </tbody>\n",
       "</table>\n",
       "</div>"
      ],
      "text/plain": [
       "  building_type_description   work_nature  number_of_units  longitude  \\\n",
       "0               Résidentiel  CONSTRUCTION              1.0 -73.869902   \n",
       "1               Résidentiel    RENOVATION              0.0 -73.873945   \n",
       "2               Résidentiel    DEMOLITION             -1.0 -73.930681   \n",
       "3                Commercial    DEMOLITION              0.0 -73.930681   \n",
       "4               Résidentiel  CONSTRUCTION              1.0 -73.930681   \n",
       "\n",
       "    latitude  approval_time  \n",
       "0  45.505224              2  \n",
       "1  45.501934              1  \n",
       "2  45.492434             47  \n",
       "3  45.492434             47  \n",
       "4  45.492434             47  "
      ]
     },
     "execution_count": 49,
     "metadata": {},
     "output_type": "execute_result"
    }
   ],
   "source": [
    "# remove the column 'request_base_code'\n",
    "approval_time_df.drop(['request_base_code'], axis=1, inplace=True)\n",
    "approval_time_df.head(5)"
   ]
  },
  {
   "cell_type": "markdown",
   "metadata": {},
   "source": [
    "### Convert the data into training and test set and store the test set separately in order to check our model."
   ]
  },
  {
   "cell_type": "code",
   "execution_count": 50,
   "metadata": {},
   "outputs": [
    {
     "data": {
      "text/plain": [
       "5086"
      ]
     },
     "execution_count": 50,
     "metadata": {},
     "output_type": "execute_result"
    }
   ],
   "source": [
    "\n",
    "# absolute value of 80% of the data will be used for training\n",
    "training_length = np.abs(0.8*len(approval_time_df))\n",
    "training_df = approval_time_df.head(int(training_length))\n",
    "len(training_df)\n",
    "# remaining 20% of the data will be used for testing\n",
    "testing_df = approval_time_df.tail(len(approval_time_df) - len(training_df))\n",
    "len(testing_df)"
   ]
  },
  {
   "cell_type": "code",
   "execution_count": 51,
   "metadata": {},
   "outputs": [],
   "source": [
    "# save the testing csv file\n",
    "testing_df.to_csv('../data/permit-time-testing.csv', index=False)"
   ]
  },
  {
   "cell_type": "code",
   "execution_count": 52,
   "metadata": {},
   "outputs": [
    {
     "name": "stdout",
     "output_type": "stream",
     "text": [
      "[[1. 0. 0.]\n",
      " [0. 0. 1.]\n",
      " [0. 1. 0.]\n",
      " ...\n",
      " [1. 0. 0.]\n",
      " [1. 0. 0.]\n",
      " [1. 0. 0.]]\n"
     ]
    }
   ],
   "source": [
    "# encode building type description\n",
    "from sklearn.preprocessing import OneHotEncoder, LabelEncoder\n",
    "\n",
    "# Create a OneHotEncoder object\n",
    "onehot_encoder = OneHotEncoder()\n",
    "\n",
    "# Encode the work nature\n",
    "encoded_work_nature = onehot_encoder.fit_transform(training_df['work_nature'].values.reshape(-1,1)).toarray()\n",
    "\n",
    "print(encoded_work_nature)"
   ]
  },
  {
   "cell_type": "code",
   "execution_count": 53,
   "metadata": {},
   "outputs": [
    {
     "name": "stdout",
     "output_type": "stream",
     "text": [
      "[[0. 0. 0. ... 0. 0. 0.]\n",
      " [0. 0. 0. ... 0. 0. 0.]\n",
      " [0. 0. 0. ... 0. 0. 0.]\n",
      " ...\n",
      " [0. 0. 0. ... 0. 0. 0.]\n",
      " [0. 0. 0. ... 0. 0. 0.]\n",
      " [0. 0. 0. ... 0. 0. 0.]]\n"
     ]
    }
   ],
   "source": [
    "# Create a OneHotEncoder object\n",
    "onehot_encoder = OneHotEncoder()\n",
    "\n",
    "# Encode the building type description\n",
    "encoded_building_type = onehot_encoder.fit_transform(training_df['building_type_description'].values.reshape(-1,1)).toarray()\n",
    "\n",
    "print(encoded_building_type)"
   ]
  },
  {
   "cell_type": "code",
   "execution_count": 55,
   "metadata": {},
   "outputs": [
    {
     "data": {
      "text/html": [
       "<div>\n",
       "<style scoped>\n",
       "    .dataframe tbody tr th:only-of-type {\n",
       "        vertical-align: middle;\n",
       "    }\n",
       "\n",
       "    .dataframe tbody tr th {\n",
       "        vertical-align: top;\n",
       "    }\n",
       "\n",
       "    .dataframe thead th {\n",
       "        text-align: right;\n",
       "    }\n",
       "</style>\n",
       "<table border=\"1\" class=\"dataframe\">\n",
       "  <thead>\n",
       "    <tr style=\"text-align: right;\">\n",
       "      <th></th>\n",
       "      <th>building_type_description</th>\n",
       "      <th>work_nature</th>\n",
       "      <th>number_of_units</th>\n",
       "      <th>longitude</th>\n",
       "      <th>latitude</th>\n",
       "      <th>approval_time</th>\n",
       "      <th>construction</th>\n",
       "      <th>demolition</th>\n",
       "      <th>renovation</th>\n",
       "    </tr>\n",
       "  </thead>\n",
       "  <tbody>\n",
       "    <tr>\n",
       "      <th>0</th>\n",
       "      <td>Résidentiel</td>\n",
       "      <td>CONSTRUCTION</td>\n",
       "      <td>1.0</td>\n",
       "      <td>-73.869902</td>\n",
       "      <td>45.505224</td>\n",
       "      <td>2.0</td>\n",
       "      <td>1.0</td>\n",
       "      <td>0.0</td>\n",
       "      <td>0.0</td>\n",
       "    </tr>\n",
       "    <tr>\n",
       "      <th>1</th>\n",
       "      <td>Résidentiel</td>\n",
       "      <td>RENOVATION</td>\n",
       "      <td>0.0</td>\n",
       "      <td>-73.873945</td>\n",
       "      <td>45.501934</td>\n",
       "      <td>1.0</td>\n",
       "      <td>0.0</td>\n",
       "      <td>0.0</td>\n",
       "      <td>1.0</td>\n",
       "    </tr>\n",
       "    <tr>\n",
       "      <th>2</th>\n",
       "      <td>Résidentiel</td>\n",
       "      <td>DEMOLITION</td>\n",
       "      <td>-1.0</td>\n",
       "      <td>-73.930681</td>\n",
       "      <td>45.492434</td>\n",
       "      <td>47.0</td>\n",
       "      <td>0.0</td>\n",
       "      <td>1.0</td>\n",
       "      <td>0.0</td>\n",
       "    </tr>\n",
       "    <tr>\n",
       "      <th>3</th>\n",
       "      <td>Commercial</td>\n",
       "      <td>DEMOLITION</td>\n",
       "      <td>0.0</td>\n",
       "      <td>-73.930681</td>\n",
       "      <td>45.492434</td>\n",
       "      <td>47.0</td>\n",
       "      <td>0.0</td>\n",
       "      <td>1.0</td>\n",
       "      <td>0.0</td>\n",
       "    </tr>\n",
       "    <tr>\n",
       "      <th>4</th>\n",
       "      <td>Résidentiel</td>\n",
       "      <td>CONSTRUCTION</td>\n",
       "      <td>1.0</td>\n",
       "      <td>-73.930681</td>\n",
       "      <td>45.492434</td>\n",
       "      <td>47.0</td>\n",
       "      <td>1.0</td>\n",
       "      <td>0.0</td>\n",
       "      <td>0.0</td>\n",
       "    </tr>\n",
       "  </tbody>\n",
       "</table>\n",
       "</div>"
      ],
      "text/plain": [
       "  building_type_description   work_nature  number_of_units  longitude  \\\n",
       "0               Résidentiel  CONSTRUCTION              1.0 -73.869902   \n",
       "1               Résidentiel    RENOVATION              0.0 -73.873945   \n",
       "2               Résidentiel    DEMOLITION             -1.0 -73.930681   \n",
       "3                Commercial    DEMOLITION              0.0 -73.930681   \n",
       "4               Résidentiel  CONSTRUCTION              1.0 -73.930681   \n",
       "\n",
       "    latitude  approval_time  construction  demolition  renovation  \n",
       "0  45.505224            2.0           1.0         0.0         0.0  \n",
       "1  45.501934            1.0           0.0         0.0         1.0  \n",
       "2  45.492434           47.0           0.0         1.0         0.0  \n",
       "3  45.492434           47.0           0.0         1.0         0.0  \n",
       "4  45.492434           47.0           1.0         0.0         0.0  "
      ]
     },
     "execution_count": 55,
     "metadata": {},
     "output_type": "execute_result"
    }
   ],
   "source": [
    "# Create a dataframe from the encoded work nature\n",
    "work_nature_df = pd.DataFrame(encoded_work_nature, columns=['construction', 'demolition', 'renovation'])\n",
    "\n",
    "# Concatenate the dataframes\n",
    "training_df = pd.concat([training_df, work_nature_df], axis=1)\n",
    "training_df.head(5)"
   ]
  },
  {
   "cell_type": "code",
   "execution_count": 56,
   "metadata": {},
   "outputs": [
    {
     "data": {
      "text/html": [
       "<div>\n",
       "<style scoped>\n",
       "    .dataframe tbody tr th:only-of-type {\n",
       "        vertical-align: middle;\n",
       "    }\n",
       "\n",
       "    .dataframe tbody tr th {\n",
       "        vertical-align: top;\n",
       "    }\n",
       "\n",
       "    .dataframe thead th {\n",
       "        text-align: right;\n",
       "    }\n",
       "</style>\n",
       "<table border=\"1\" class=\"dataframe\">\n",
       "  <thead>\n",
       "    <tr style=\"text-align: right;\">\n",
       "      <th></th>\n",
       "      <th>work_nature</th>\n",
       "      <th>number_of_units</th>\n",
       "      <th>longitude</th>\n",
       "      <th>latitude</th>\n",
       "      <th>approval_time</th>\n",
       "      <th>construction</th>\n",
       "      <th>demolition</th>\n",
       "      <th>renovation</th>\n",
       "      <th>building_type_0</th>\n",
       "      <th>building_type_1</th>\n",
       "      <th>...</th>\n",
       "      <th>building_type_26</th>\n",
       "      <th>building_type_27</th>\n",
       "      <th>building_type_28</th>\n",
       "      <th>building_type_29</th>\n",
       "      <th>building_type_30</th>\n",
       "      <th>building_type_31</th>\n",
       "      <th>building_type_32</th>\n",
       "      <th>building_type_33</th>\n",
       "      <th>building_type_34</th>\n",
       "      <th>building_type_35</th>\n",
       "    </tr>\n",
       "  </thead>\n",
       "  <tbody>\n",
       "    <tr>\n",
       "      <th>0</th>\n",
       "      <td>CONSTRUCTION</td>\n",
       "      <td>1.0</td>\n",
       "      <td>-73.869902</td>\n",
       "      <td>45.505224</td>\n",
       "      <td>2.0</td>\n",
       "      <td>1.0</td>\n",
       "      <td>0.0</td>\n",
       "      <td>0.0</td>\n",
       "      <td>0.0</td>\n",
       "      <td>0.0</td>\n",
       "      <td>...</td>\n",
       "      <td>0.0</td>\n",
       "      <td>0.0</td>\n",
       "      <td>0.0</td>\n",
       "      <td>0.0</td>\n",
       "      <td>0.0</td>\n",
       "      <td>0.0</td>\n",
       "      <td>0.0</td>\n",
       "      <td>0.0</td>\n",
       "      <td>0.0</td>\n",
       "      <td>0.0</td>\n",
       "    </tr>\n",
       "    <tr>\n",
       "      <th>1</th>\n",
       "      <td>RENOVATION</td>\n",
       "      <td>0.0</td>\n",
       "      <td>-73.873945</td>\n",
       "      <td>45.501934</td>\n",
       "      <td>1.0</td>\n",
       "      <td>0.0</td>\n",
       "      <td>0.0</td>\n",
       "      <td>1.0</td>\n",
       "      <td>0.0</td>\n",
       "      <td>0.0</td>\n",
       "      <td>...</td>\n",
       "      <td>0.0</td>\n",
       "      <td>0.0</td>\n",
       "      <td>0.0</td>\n",
       "      <td>0.0</td>\n",
       "      <td>0.0</td>\n",
       "      <td>0.0</td>\n",
       "      <td>0.0</td>\n",
       "      <td>0.0</td>\n",
       "      <td>0.0</td>\n",
       "      <td>0.0</td>\n",
       "    </tr>\n",
       "    <tr>\n",
       "      <th>2</th>\n",
       "      <td>DEMOLITION</td>\n",
       "      <td>-1.0</td>\n",
       "      <td>-73.930681</td>\n",
       "      <td>45.492434</td>\n",
       "      <td>47.0</td>\n",
       "      <td>0.0</td>\n",
       "      <td>1.0</td>\n",
       "      <td>0.0</td>\n",
       "      <td>0.0</td>\n",
       "      <td>0.0</td>\n",
       "      <td>...</td>\n",
       "      <td>0.0</td>\n",
       "      <td>0.0</td>\n",
       "      <td>0.0</td>\n",
       "      <td>0.0</td>\n",
       "      <td>0.0</td>\n",
       "      <td>0.0</td>\n",
       "      <td>0.0</td>\n",
       "      <td>0.0</td>\n",
       "      <td>0.0</td>\n",
       "      <td>0.0</td>\n",
       "    </tr>\n",
       "    <tr>\n",
       "      <th>3</th>\n",
       "      <td>DEMOLITION</td>\n",
       "      <td>0.0</td>\n",
       "      <td>-73.930681</td>\n",
       "      <td>45.492434</td>\n",
       "      <td>47.0</td>\n",
       "      <td>0.0</td>\n",
       "      <td>1.0</td>\n",
       "      <td>0.0</td>\n",
       "      <td>0.0</td>\n",
       "      <td>0.0</td>\n",
       "      <td>...</td>\n",
       "      <td>0.0</td>\n",
       "      <td>0.0</td>\n",
       "      <td>0.0</td>\n",
       "      <td>0.0</td>\n",
       "      <td>0.0</td>\n",
       "      <td>0.0</td>\n",
       "      <td>0.0</td>\n",
       "      <td>0.0</td>\n",
       "      <td>0.0</td>\n",
       "      <td>0.0</td>\n",
       "    </tr>\n",
       "    <tr>\n",
       "      <th>4</th>\n",
       "      <td>CONSTRUCTION</td>\n",
       "      <td>1.0</td>\n",
       "      <td>-73.930681</td>\n",
       "      <td>45.492434</td>\n",
       "      <td>47.0</td>\n",
       "      <td>1.0</td>\n",
       "      <td>0.0</td>\n",
       "      <td>0.0</td>\n",
       "      <td>0.0</td>\n",
       "      <td>0.0</td>\n",
       "      <td>...</td>\n",
       "      <td>0.0</td>\n",
       "      <td>0.0</td>\n",
       "      <td>0.0</td>\n",
       "      <td>0.0</td>\n",
       "      <td>0.0</td>\n",
       "      <td>0.0</td>\n",
       "      <td>0.0</td>\n",
       "      <td>0.0</td>\n",
       "      <td>0.0</td>\n",
       "      <td>0.0</td>\n",
       "    </tr>\n",
       "  </tbody>\n",
       "</table>\n",
       "<p>5 rows × 44 columns</p>\n",
       "</div>"
      ],
      "text/plain": [
       "    work_nature  number_of_units  longitude   latitude  approval_time  \\\n",
       "0  CONSTRUCTION              1.0 -73.869902  45.505224            2.0   \n",
       "1    RENOVATION              0.0 -73.873945  45.501934            1.0   \n",
       "2    DEMOLITION             -1.0 -73.930681  45.492434           47.0   \n",
       "3    DEMOLITION              0.0 -73.930681  45.492434           47.0   \n",
       "4  CONSTRUCTION              1.0 -73.930681  45.492434           47.0   \n",
       "\n",
       "   construction  demolition  renovation  building_type_0  building_type_1  \\\n",
       "0           1.0         0.0         0.0              0.0              0.0   \n",
       "1           0.0         0.0         1.0              0.0              0.0   \n",
       "2           0.0         1.0         0.0              0.0              0.0   \n",
       "3           0.0         1.0         0.0              0.0              0.0   \n",
       "4           1.0         0.0         0.0              0.0              0.0   \n",
       "\n",
       "   ...  building_type_26  building_type_27  building_type_28  \\\n",
       "0  ...               0.0               0.0               0.0   \n",
       "1  ...               0.0               0.0               0.0   \n",
       "2  ...               0.0               0.0               0.0   \n",
       "3  ...               0.0               0.0               0.0   \n",
       "4  ...               0.0               0.0               0.0   \n",
       "\n",
       "   building_type_29  building_type_30  building_type_31  building_type_32  \\\n",
       "0               0.0               0.0               0.0               0.0   \n",
       "1               0.0               0.0               0.0               0.0   \n",
       "2               0.0               0.0               0.0               0.0   \n",
       "3               0.0               0.0               0.0               0.0   \n",
       "4               0.0               0.0               0.0               0.0   \n",
       "\n",
       "   building_type_33  building_type_34  building_type_35  \n",
       "0               0.0               0.0               0.0  \n",
       "1               0.0               0.0               0.0  \n",
       "2               0.0               0.0               0.0  \n",
       "3               0.0               0.0               0.0  \n",
       "4               0.0               0.0               0.0  \n",
       "\n",
       "[5 rows x 44 columns]"
      ]
     },
     "execution_count": 56,
     "metadata": {},
     "output_type": "execute_result"
    }
   ],
   "source": [
    "# add the encoded building types to the dataframe\n",
    "building_types_df = pd.DataFrame(encoded_building_type, columns=['building_type_'+str(int(i)) for i in range(encoded_building_type.shape[1])])\n",
    "training_df = pd.concat([training_df, building_types_df], axis=1)\n",
    "\n",
    "# drop the building type description column\n",
    "training_df.drop('building_type_description', axis=1, inplace=True)\n",
    "training_df.head(5)"
   ]
  },
  {
   "cell_type": "code",
   "execution_count": 63,
   "metadata": {},
   "outputs": [
    {
     "data": {
      "text/plain": [
       "building_type_5\n",
       "0.0    20342\n",
       "1.0        1\n",
       "Name: count, dtype: int64"
      ]
     },
     "execution_count": 63,
     "metadata": {},
     "output_type": "execute_result"
    }
   ],
   "source": [
    "training_df['building_type_5'].value_counts()"
   ]
  },
  {
   "cell_type": "code",
   "execution_count": 35,
   "metadata": {},
   "outputs": [
    {
     "name": "stdout",
     "output_type": "stream",
     "text": [
      "[1 3 2 ... 4 4 4]\n"
     ]
    }
   ],
   "source": [
    "#  encode request base code\n",
    "# Create a LabelEncoder object\n",
    "# label_encoder = LabelEncoder()\n",
    "# # Fit and transform the request base code\n",
    "# encoded_request_base_code = label_encoder.fit_transform(training_df['request_base_code'])\n",
    "# print(encoded_request_base_code)\n"
   ]
  },
  {
   "cell_type": "code",
   "execution_count": null,
   "metadata": {},
   "outputs": [],
   "source": [
    "# # Create a dataframe from the encoded request base code\n",
    "# request_base_code_df = pd.DataFrame(encoded_request_base_code, columns=['request_code'])\n",
    "# # Concatenate the dataframes\n",
    "# training_df = pd.concat([training_df, request_base_code_df], axis=1)\n",
    "\n",
    "# # drop the request base code column\n",
    "# training_df.drop('request_base_code', axis=1, inplace=True)\n",
    "# training_df.head(5)\n"
   ]
  },
  {
   "cell_type": "code",
   "execution_count": 28,
   "metadata": {},
   "outputs": [],
   "source": [
    "# # onhot encode the request base code\n",
    "# encoded_request_base_code = onehot_encoder.fit_transform(training_df['request_base_code'].values.reshape(-1,1)).toarray()\n",
    "# # add the encoded request base code to the dataframe\n",
    "# request_base_code_df = pd.DataFrame(encoded_request_base_code, columns=['request_base_code_'+str(int(i)) for i in range(encoded_request_base_code.shape[1])])\n",
    "# training_df = pd.concat([training_df, request_base_code_df], axis=1)\n",
    "# # drop the request base code column\n",
    "# training_df.drop('request_base_code', axis=1, inplace=True)\n",
    "# training_df.head(5)"
   ]
  },
  {
   "cell_type": "code",
   "execution_count": null,
   "metadata": {},
   "outputs": [],
   "source": [
    "# put approval_time column at the end of the dataframe\n",
    "cols = list(training_df.columns.values)\n",
    "cols.pop(cols.index('approval_time'))\n",
    "training_df = training_df[cols+['approval_time']]\n",
    "training_df.head(5)"
   ]
  },
  {
   "cell_type": "code",
   "execution_count": 65,
   "metadata": {},
   "outputs": [
    {
     "data": {
      "text/html": [
       "<div>\n",
       "<style scoped>\n",
       "    .dataframe tbody tr th:only-of-type {\n",
       "        vertical-align: middle;\n",
       "    }\n",
       "\n",
       "    .dataframe tbody tr th {\n",
       "        vertical-align: top;\n",
       "    }\n",
       "\n",
       "    .dataframe thead th {\n",
       "        text-align: right;\n",
       "    }\n",
       "</style>\n",
       "<table border=\"1\" class=\"dataframe\">\n",
       "  <thead>\n",
       "    <tr style=\"text-align: right;\">\n",
       "      <th></th>\n",
       "      <th>number_of_units</th>\n",
       "      <th>longitude</th>\n",
       "      <th>latitude</th>\n",
       "      <th>construction</th>\n",
       "      <th>demolition</th>\n",
       "      <th>renovation</th>\n",
       "      <th>building_type_0</th>\n",
       "      <th>building_type_1</th>\n",
       "      <th>building_type_2</th>\n",
       "      <th>building_type_3</th>\n",
       "      <th>...</th>\n",
       "      <th>building_type_27</th>\n",
       "      <th>building_type_28</th>\n",
       "      <th>building_type_29</th>\n",
       "      <th>building_type_30</th>\n",
       "      <th>building_type_31</th>\n",
       "      <th>building_type_32</th>\n",
       "      <th>building_type_33</th>\n",
       "      <th>building_type_34</th>\n",
       "      <th>building_type_35</th>\n",
       "      <th>approval_time</th>\n",
       "    </tr>\n",
       "  </thead>\n",
       "  <tbody>\n",
       "    <tr>\n",
       "      <th>0</th>\n",
       "      <td>1.0</td>\n",
       "      <td>-73.869902</td>\n",
       "      <td>45.505224</td>\n",
       "      <td>1.0</td>\n",
       "      <td>0.0</td>\n",
       "      <td>0.0</td>\n",
       "      <td>0.0</td>\n",
       "      <td>0.0</td>\n",
       "      <td>0.0</td>\n",
       "      <td>0.0</td>\n",
       "      <td>...</td>\n",
       "      <td>0.0</td>\n",
       "      <td>0.0</td>\n",
       "      <td>0.0</td>\n",
       "      <td>0.0</td>\n",
       "      <td>0.0</td>\n",
       "      <td>0.0</td>\n",
       "      <td>0.0</td>\n",
       "      <td>0.0</td>\n",
       "      <td>0.0</td>\n",
       "      <td>2.0</td>\n",
       "    </tr>\n",
       "    <tr>\n",
       "      <th>1</th>\n",
       "      <td>0.0</td>\n",
       "      <td>-73.873945</td>\n",
       "      <td>45.501934</td>\n",
       "      <td>0.0</td>\n",
       "      <td>0.0</td>\n",
       "      <td>1.0</td>\n",
       "      <td>0.0</td>\n",
       "      <td>0.0</td>\n",
       "      <td>0.0</td>\n",
       "      <td>0.0</td>\n",
       "      <td>...</td>\n",
       "      <td>0.0</td>\n",
       "      <td>0.0</td>\n",
       "      <td>0.0</td>\n",
       "      <td>0.0</td>\n",
       "      <td>0.0</td>\n",
       "      <td>0.0</td>\n",
       "      <td>0.0</td>\n",
       "      <td>0.0</td>\n",
       "      <td>0.0</td>\n",
       "      <td>1.0</td>\n",
       "    </tr>\n",
       "    <tr>\n",
       "      <th>2</th>\n",
       "      <td>-1.0</td>\n",
       "      <td>-73.930681</td>\n",
       "      <td>45.492434</td>\n",
       "      <td>0.0</td>\n",
       "      <td>1.0</td>\n",
       "      <td>0.0</td>\n",
       "      <td>0.0</td>\n",
       "      <td>0.0</td>\n",
       "      <td>0.0</td>\n",
       "      <td>0.0</td>\n",
       "      <td>...</td>\n",
       "      <td>0.0</td>\n",
       "      <td>0.0</td>\n",
       "      <td>0.0</td>\n",
       "      <td>0.0</td>\n",
       "      <td>0.0</td>\n",
       "      <td>0.0</td>\n",
       "      <td>0.0</td>\n",
       "      <td>0.0</td>\n",
       "      <td>0.0</td>\n",
       "      <td>47.0</td>\n",
       "    </tr>\n",
       "    <tr>\n",
       "      <th>3</th>\n",
       "      <td>0.0</td>\n",
       "      <td>-73.930681</td>\n",
       "      <td>45.492434</td>\n",
       "      <td>0.0</td>\n",
       "      <td>1.0</td>\n",
       "      <td>0.0</td>\n",
       "      <td>0.0</td>\n",
       "      <td>0.0</td>\n",
       "      <td>0.0</td>\n",
       "      <td>1.0</td>\n",
       "      <td>...</td>\n",
       "      <td>0.0</td>\n",
       "      <td>0.0</td>\n",
       "      <td>0.0</td>\n",
       "      <td>0.0</td>\n",
       "      <td>0.0</td>\n",
       "      <td>0.0</td>\n",
       "      <td>0.0</td>\n",
       "      <td>0.0</td>\n",
       "      <td>0.0</td>\n",
       "      <td>47.0</td>\n",
       "    </tr>\n",
       "    <tr>\n",
       "      <th>4</th>\n",
       "      <td>1.0</td>\n",
       "      <td>-73.930681</td>\n",
       "      <td>45.492434</td>\n",
       "      <td>1.0</td>\n",
       "      <td>0.0</td>\n",
       "      <td>0.0</td>\n",
       "      <td>0.0</td>\n",
       "      <td>0.0</td>\n",
       "      <td>0.0</td>\n",
       "      <td>0.0</td>\n",
       "      <td>...</td>\n",
       "      <td>0.0</td>\n",
       "      <td>0.0</td>\n",
       "      <td>0.0</td>\n",
       "      <td>0.0</td>\n",
       "      <td>0.0</td>\n",
       "      <td>0.0</td>\n",
       "      <td>0.0</td>\n",
       "      <td>0.0</td>\n",
       "      <td>0.0</td>\n",
       "      <td>47.0</td>\n",
       "    </tr>\n",
       "  </tbody>\n",
       "</table>\n",
       "<p>5 rows × 43 columns</p>\n",
       "</div>"
      ],
      "text/plain": [
       "   number_of_units  longitude   latitude  construction  demolition  \\\n",
       "0              1.0 -73.869902  45.505224           1.0         0.0   \n",
       "1              0.0 -73.873945  45.501934           0.0         0.0   \n",
       "2             -1.0 -73.930681  45.492434           0.0         1.0   \n",
       "3              0.0 -73.930681  45.492434           0.0         1.0   \n",
       "4              1.0 -73.930681  45.492434           1.0         0.0   \n",
       "\n",
       "   renovation  building_type_0  building_type_1  building_type_2  \\\n",
       "0         0.0              0.0              0.0              0.0   \n",
       "1         1.0              0.0              0.0              0.0   \n",
       "2         0.0              0.0              0.0              0.0   \n",
       "3         0.0              0.0              0.0              0.0   \n",
       "4         0.0              0.0              0.0              0.0   \n",
       "\n",
       "   building_type_3  ...  building_type_27  building_type_28  building_type_29  \\\n",
       "0              0.0  ...               0.0               0.0               0.0   \n",
       "1              0.0  ...               0.0               0.0               0.0   \n",
       "2              0.0  ...               0.0               0.0               0.0   \n",
       "3              1.0  ...               0.0               0.0               0.0   \n",
       "4              0.0  ...               0.0               0.0               0.0   \n",
       "\n",
       "   building_type_30  building_type_31  building_type_32  building_type_33  \\\n",
       "0               0.0               0.0               0.0               0.0   \n",
       "1               0.0               0.0               0.0               0.0   \n",
       "2               0.0               0.0               0.0               0.0   \n",
       "3               0.0               0.0               0.0               0.0   \n",
       "4               0.0               0.0               0.0               0.0   \n",
       "\n",
       "   building_type_34  building_type_35  approval_time  \n",
       "0               0.0               0.0            2.0  \n",
       "1               0.0               0.0            1.0  \n",
       "2               0.0               0.0           47.0  \n",
       "3               0.0               0.0           47.0  \n",
       "4               0.0               0.0           47.0  \n",
       "\n",
       "[5 rows x 43 columns]"
      ]
     },
     "execution_count": 65,
     "metadata": {},
     "output_type": "execute_result"
    }
   ],
   "source": [
    "# drop work_nature column\n",
    "training_df.drop('work_nature', axis=1, inplace=True)\n",
    "training_df.head(5)"
   ]
  },
  {
   "cell_type": "code",
   "execution_count": 66,
   "metadata": {},
   "outputs": [],
   "source": [
    "# save the dataframe to csv\n",
    "training_df.to_csv('../data/permit-time-training.csv', index=False)"
   ]
  },
  {
   "cell_type": "code",
   "execution_count": 67,
   "metadata": {},
   "outputs": [
    {
     "data": {
      "text/html": [
       "<div>\n",
       "<style scoped>\n",
       "    .dataframe tbody tr th:only-of-type {\n",
       "        vertical-align: middle;\n",
       "    }\n",
       "\n",
       "    .dataframe tbody tr th {\n",
       "        vertical-align: top;\n",
       "    }\n",
       "\n",
       "    .dataframe thead th {\n",
       "        text-align: right;\n",
       "    }\n",
       "</style>\n",
       "<table border=\"1\" class=\"dataframe\">\n",
       "  <thead>\n",
       "    <tr style=\"text-align: right;\">\n",
       "      <th></th>\n",
       "      <th>number_of_units</th>\n",
       "      <th>longitude</th>\n",
       "      <th>latitude</th>\n",
       "      <th>construction</th>\n",
       "      <th>demolition</th>\n",
       "      <th>renovation</th>\n",
       "      <th>building_type_0</th>\n",
       "      <th>building_type_1</th>\n",
       "      <th>building_type_2</th>\n",
       "      <th>building_type_3</th>\n",
       "      <th>...</th>\n",
       "      <th>building_type_27</th>\n",
       "      <th>building_type_28</th>\n",
       "      <th>building_type_29</th>\n",
       "      <th>building_type_30</th>\n",
       "      <th>building_type_31</th>\n",
       "      <th>building_type_32</th>\n",
       "      <th>building_type_33</th>\n",
       "      <th>building_type_34</th>\n",
       "      <th>building_type_35</th>\n",
       "      <th>approval_time</th>\n",
       "    </tr>\n",
       "  </thead>\n",
       "  <tbody>\n",
       "    <tr>\n",
       "      <th>0</th>\n",
       "      <td>1.0</td>\n",
       "      <td>-73.869902</td>\n",
       "      <td>45.505224</td>\n",
       "      <td>1.0</td>\n",
       "      <td>0.0</td>\n",
       "      <td>0.0</td>\n",
       "      <td>0.0</td>\n",
       "      <td>0.0</td>\n",
       "      <td>0.0</td>\n",
       "      <td>0.0</td>\n",
       "      <td>...</td>\n",
       "      <td>0.0</td>\n",
       "      <td>0.0</td>\n",
       "      <td>0.0</td>\n",
       "      <td>0.0</td>\n",
       "      <td>0.0</td>\n",
       "      <td>0.0</td>\n",
       "      <td>0.0</td>\n",
       "      <td>0.0</td>\n",
       "      <td>0.0</td>\n",
       "      <td>2.0</td>\n",
       "    </tr>\n",
       "    <tr>\n",
       "      <th>1</th>\n",
       "      <td>0.0</td>\n",
       "      <td>-73.873945</td>\n",
       "      <td>45.501934</td>\n",
       "      <td>0.0</td>\n",
       "      <td>0.0</td>\n",
       "      <td>1.0</td>\n",
       "      <td>0.0</td>\n",
       "      <td>0.0</td>\n",
       "      <td>0.0</td>\n",
       "      <td>0.0</td>\n",
       "      <td>...</td>\n",
       "      <td>0.0</td>\n",
       "      <td>0.0</td>\n",
       "      <td>0.0</td>\n",
       "      <td>0.0</td>\n",
       "      <td>0.0</td>\n",
       "      <td>0.0</td>\n",
       "      <td>0.0</td>\n",
       "      <td>0.0</td>\n",
       "      <td>0.0</td>\n",
       "      <td>1.0</td>\n",
       "    </tr>\n",
       "    <tr>\n",
       "      <th>2</th>\n",
       "      <td>-1.0</td>\n",
       "      <td>-73.930681</td>\n",
       "      <td>45.492434</td>\n",
       "      <td>0.0</td>\n",
       "      <td>1.0</td>\n",
       "      <td>0.0</td>\n",
       "      <td>0.0</td>\n",
       "      <td>0.0</td>\n",
       "      <td>0.0</td>\n",
       "      <td>0.0</td>\n",
       "      <td>...</td>\n",
       "      <td>0.0</td>\n",
       "      <td>0.0</td>\n",
       "      <td>0.0</td>\n",
       "      <td>0.0</td>\n",
       "      <td>0.0</td>\n",
       "      <td>0.0</td>\n",
       "      <td>0.0</td>\n",
       "      <td>0.0</td>\n",
       "      <td>0.0</td>\n",
       "      <td>47.0</td>\n",
       "    </tr>\n",
       "    <tr>\n",
       "      <th>3</th>\n",
       "      <td>0.0</td>\n",
       "      <td>-73.930681</td>\n",
       "      <td>45.492434</td>\n",
       "      <td>0.0</td>\n",
       "      <td>1.0</td>\n",
       "      <td>0.0</td>\n",
       "      <td>0.0</td>\n",
       "      <td>0.0</td>\n",
       "      <td>0.0</td>\n",
       "      <td>1.0</td>\n",
       "      <td>...</td>\n",
       "      <td>0.0</td>\n",
       "      <td>0.0</td>\n",
       "      <td>0.0</td>\n",
       "      <td>0.0</td>\n",
       "      <td>0.0</td>\n",
       "      <td>0.0</td>\n",
       "      <td>0.0</td>\n",
       "      <td>0.0</td>\n",
       "      <td>0.0</td>\n",
       "      <td>47.0</td>\n",
       "    </tr>\n",
       "    <tr>\n",
       "      <th>4</th>\n",
       "      <td>1.0</td>\n",
       "      <td>-73.930681</td>\n",
       "      <td>45.492434</td>\n",
       "      <td>1.0</td>\n",
       "      <td>0.0</td>\n",
       "      <td>0.0</td>\n",
       "      <td>0.0</td>\n",
       "      <td>0.0</td>\n",
       "      <td>0.0</td>\n",
       "      <td>0.0</td>\n",
       "      <td>...</td>\n",
       "      <td>0.0</td>\n",
       "      <td>0.0</td>\n",
       "      <td>0.0</td>\n",
       "      <td>0.0</td>\n",
       "      <td>0.0</td>\n",
       "      <td>0.0</td>\n",
       "      <td>0.0</td>\n",
       "      <td>0.0</td>\n",
       "      <td>0.0</td>\n",
       "      <td>47.0</td>\n",
       "    </tr>\n",
       "  </tbody>\n",
       "</table>\n",
       "<p>5 rows × 43 columns</p>\n",
       "</div>"
      ],
      "text/plain": [
       "   number_of_units  longitude   latitude  construction  demolition  \\\n",
       "0              1.0 -73.869902  45.505224           1.0         0.0   \n",
       "1              0.0 -73.873945  45.501934           0.0         0.0   \n",
       "2             -1.0 -73.930681  45.492434           0.0         1.0   \n",
       "3              0.0 -73.930681  45.492434           0.0         1.0   \n",
       "4              1.0 -73.930681  45.492434           1.0         0.0   \n",
       "\n",
       "   renovation  building_type_0  building_type_1  building_type_2  \\\n",
       "0         0.0              0.0              0.0              0.0   \n",
       "1         1.0              0.0              0.0              0.0   \n",
       "2         0.0              0.0              0.0              0.0   \n",
       "3         0.0              0.0              0.0              0.0   \n",
       "4         0.0              0.0              0.0              0.0   \n",
       "\n",
       "   building_type_3  ...  building_type_27  building_type_28  building_type_29  \\\n",
       "0              0.0  ...               0.0               0.0               0.0   \n",
       "1              0.0  ...               0.0               0.0               0.0   \n",
       "2              0.0  ...               0.0               0.0               0.0   \n",
       "3              1.0  ...               0.0               0.0               0.0   \n",
       "4              0.0  ...               0.0               0.0               0.0   \n",
       "\n",
       "   building_type_30  building_type_31  building_type_32  building_type_33  \\\n",
       "0               0.0               0.0               0.0               0.0   \n",
       "1               0.0               0.0               0.0               0.0   \n",
       "2               0.0               0.0               0.0               0.0   \n",
       "3               0.0               0.0               0.0               0.0   \n",
       "4               0.0               0.0               0.0               0.0   \n",
       "\n",
       "   building_type_34  building_type_35  approval_time  \n",
       "0               0.0               0.0            2.0  \n",
       "1               0.0               0.0            1.0  \n",
       "2               0.0               0.0           47.0  \n",
       "3               0.0               0.0           47.0  \n",
       "4               0.0               0.0           47.0  \n",
       "\n",
       "[5 rows x 43 columns]"
      ]
     },
     "execution_count": 67,
     "metadata": {},
     "output_type": "execute_result"
    }
   ],
   "source": [
    "# read the dataframe from csv\n",
    "df = pd.read_csv('../data/permit-time-training.csv')\n",
    "df.head(5)"
   ]
  },
  {
   "cell_type": "markdown",
   "metadata": {},
   "source": [
    "### Explore approval time column"
   ]
  },
  {
   "cell_type": "code",
   "execution_count": 76,
   "metadata": {},
   "outputs": [
    {
     "name": "stdout",
     "output_type": "stream",
     "text": [
      "Total number of rows: 37201\n"
     ]
    }
   ],
   "source": [
    "# total number of rows in the dataframe\n",
    "total_rows = len(df)\n",
    "print(f'Total number of rows: {total_rows}')"
   ]
  },
  {
   "cell_type": "code",
   "execution_count": 69,
   "metadata": {},
   "outputs": [
    {
     "name": "stdout",
     "output_type": "stream",
     "text": [
      "41002.0\n",
      "0.0\n"
     ]
    }
   ],
   "source": [
    "# check the max and min values of the approval_time column\n",
    "print(df['approval_time'].max())\n",
    "print(df['approval_time'].min())"
   ]
  },
  {
   "cell_type": "code",
   "execution_count": 70,
   "metadata": {},
   "outputs": [
    {
     "name": "stdout",
     "output_type": "stream",
     "text": [
      "542\n"
     ]
    }
   ],
   "source": [
    "# count the number of rows with approval time between 30000 and 40000\n",
    "print(df[(df['approval_time'] >= 30000) & (df['approval_time'] <= 40000)].shape[0])"
   ]
  },
  {
   "cell_type": "code",
   "execution_count": 77,
   "metadata": {},
   "outputs": [
    {
     "name": "stdout",
     "output_type": "stream",
     "text": [
      "16011\n"
     ]
    }
   ],
   "source": [
    "# what is the range that contains 80% of the data in the approval_time column\n",
    "print(df[(df['approval_time'] >= 0) & (df['approval_time'] <= 100)].shape[0])"
   ]
  }
 ],
 "metadata": {
  "kernelspec": {
   "display_name": ".venv",
   "language": "python",
   "name": "python3"
  },
  "language_info": {
   "codemirror_mode": {
    "name": "ipython",
    "version": 3
   },
   "file_extension": ".py",
   "mimetype": "text/x-python",
   "name": "python",
   "nbconvert_exporter": "python",
   "pygments_lexer": "ipython3",
   "version": "3.10.11"
  }
 },
 "nbformat": 4,
 "nbformat_minor": 2
}
